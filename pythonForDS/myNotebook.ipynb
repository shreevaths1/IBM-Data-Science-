{
 "cells": [
  {
   "cell_type": "markdown",
   "id": "dbf020ba-ecf2-460e-84f2-dc46fd56edbd",
   "metadata": {},
   "source": [
    "Pandas Practice 1"
   ]
  },
  {
   "cell_type": "code",
   "execution_count": null,
   "id": "aefa8b4f-8a41-4759-9d18-496279e69659",
   "metadata": {
    "tags": []
   },
   "outputs": [],
   "source": [
    "dt = {   \"Name\":[\"Shree\",\"Rahul\",\"Vishal\",\"Nigel\"],\n",
    "         \"ID\":[1,2,3,4],\n",
    "         \"Department\":[\"Architect Group\",\"Database Group\",\"Software Group\",\"Sales Group\"],\n",
    "         \"Salary\":[500000,400000,300000,350000]\n",
    "     }"
   ]
  },
  {
   "cell_type": "code",
   "execution_count": null,
   "id": "0f713581-47b1-4ab9-a3ec-9dde14f84901",
   "metadata": {
    "tags": []
   },
   "outputs": [],
   "source": [
    "import pandas as pd\n",
    "df = pd.DataFrame(dt)\n",
    "df"
   ]
  },
  {
   "cell_type": "code",
   "execution_count": null,
   "id": "7ea00284-7a47-4f6f-a640-a73ccbaa9925",
   "metadata": {
    "tags": []
   },
   "outputs": [],
   "source": [
    "x=df[[\"ID\"]]\n",
    "print(type(x))\n",
    "print(x.dtypes)"
   ]
  },
  {
   "cell_type": "code",
   "execution_count": null,
   "id": "d5ce4a15-793b-440e-9cfb-eba7ef6af528",
   "metadata": {
    "tags": []
   },
   "outputs": [],
   "source": [
    "y=df[\"ID\"]\n",
    "print(type(y))\n",
    "print(y.dtypes)"
   ]
  },
  {
   "cell_type": "code",
   "execution_count": null,
   "id": "d77f2733-7b39-4d7a-9ca1-ed282c1a3042",
   "metadata": {
    "tags": []
   },
   "outputs": [],
   "source": [
    "df[[\"ID\",\"Name\",\"Department\"]]"
   ]
  },
  {
   "cell_type": "code",
   "execution_count": null,
   "id": "2b9c3ef4-895f-4ac3-818a-827af95c7d50",
   "metadata": {
    "tags": []
   },
   "outputs": [],
   "source": [
    "df.set_index(\"Name\",inplace=True)"
   ]
  },
  {
   "cell_type": "code",
   "execution_count": null,
   "id": "9ef3f76c-81ea-4675-8789-e1fd69bab651",
   "metadata": {
    "tags": []
   },
   "outputs": [],
   "source": [
    "df"
   ]
  },
  {
   "cell_type": "code",
   "execution_count": null,
   "id": "c5c60600-b69d-4eeb-81de-68c26fc9e49b",
   "metadata": {
    "tags": []
   },
   "outputs": [],
   "source": [
    "print(\"ID of Shree : \",df.loc[\"Shree\",\"ID\"],end=\"\\n\\n\")\n",
    "print(df.loc[\"Shree\":\"Vishal\",\"ID\"],end=\"\\n\\n\")\n",
    "print(df.iloc[0:2,0],end=\"\\n\\n\")\n",
    "print(\"Salary of Vishal : \",df.iloc[2,2])"
   ]
  },
  {
   "cell_type": "code",
   "execution_count": null,
   "id": "38b1308e-30e3-484e-a6bf-6c86b54b83d5",
   "metadata": {
    "tags": []
   },
   "outputs": [],
   "source": [
    "print(\"first 3 rows using iloc[]\\n\",df.iloc[0:3],end=\"\\n\\n\")\n",
    "print(\"first 3 rows using loc[]\\n\",df.loc[\"Shree\":\"Vishal\"],end=\"\\n\\n\")"
   ]
  },
  {
   "cell_type": "markdown",
   "id": "3c238a1e-90bb-440a-906e-f76a4e483a07",
   "metadata": {},
   "source": [
    "---\n",
    "---"
   ]
  },
  {
   "cell_type": "markdown",
   "id": "4f1af072-423a-4477-b200-ee816bd4ae71",
   "metadata": {},
   "source": [
    "Pandas Practice 2"
   ]
  },
  {
   "cell_type": "code",
   "execution_count": null,
   "id": "992023ff-2732-4ad1-9f49-4ac5c50793f2",
   "metadata": {
    "tags": []
   },
   "outputs": [],
   "source": [
    "import pandas as pd\n",
    "path = \"../docs/TopSellingAlbums.csv\"\n",
    "df = pd.read_csv(path)\n",
    "df.head()"
   ]
  },
  {
   "cell_type": "code",
   "execution_count": null,
   "id": "6fd417f4-81a2-4484-9d3a-68c9188399ad",
   "metadata": {
    "tags": []
   },
   "outputs": [],
   "source": [
    "y=df[[\"Artist\",\"Album\",\"Genre\"]].head()"
   ]
  },
  {
   "cell_type": "code",
   "execution_count": null,
   "id": "6b4ed2f3-1b13-4467-a7d3-79788553ef3e",
   "metadata": {
    "tags": []
   },
   "outputs": [],
   "source": [
    "print(df.loc[0:4,\"Album\"],end=\"\\n\\n\")\n",
    "print(df.iloc[0:5,1],end=\"\\n\\n\")"
   ]
  },
  {
   "cell_type": "code",
   "execution_count": null,
   "id": "c90b9b2c-f6a5-49c7-8405-572a751b153d",
   "metadata": {
    "tags": []
   },
   "outputs": [],
   "source": [
    "df.set_index(\"Artist\").head(2)"
   ]
  },
  {
   "cell_type": "code",
   "execution_count": null,
   "id": "e2794d72-506a-40c1-81e4-0586f2f0b21a",
   "metadata": {
    "tags": []
   },
   "outputs": [],
   "source": [
    "path2 = \"https://s3-api.us-geo.objectstorage.softlayer.net/cf-courses-data/CognitiveClass/PY0101EN/Chapter%204/Datasets/TopSellingAlbums.xlsx\"\n",
    "df2 = pd.read_excel(path2)\n",
    "df2.head()"
   ]
  },
  {
   "cell_type": "code",
   "execution_count": null,
   "id": "6782cc74-c1fb-4faa-a68e-56d3e27a26ca",
   "metadata": {
    "tags": []
   },
   "outputs": [],
   "source": [
    "y.set_index(\"Artist\",inplace=True)\n",
    "y"
   ]
  },
  {
   "cell_type": "code",
   "execution_count": null,
   "id": "c35214ab-e914-40e3-9e85-e7992706d1e3",
   "metadata": {
    "tags": []
   },
   "outputs": [],
   "source": [
    "print(df.iloc[1,2])\n",
    "print(df.iloc[0,2])\n",
    "print(df.iloc[0,0])"
   ]
  },
  {
   "cell_type": "code",
   "execution_count": null,
   "id": "6e5d6a7f-878b-4dcc-8c23-13e978373049",
   "metadata": {
    "tags": []
   },
   "outputs": [],
   "source": [
    "print(df.loc[1,\"Released\"])\n",
    "print(df.loc[0,\"Released\"])\n",
    "print(df.loc[0,\"Artist\"])"
   ]
  },
  {
   "cell_type": "code",
   "execution_count": null,
   "id": "dcc3da95-9d06-4149-a1b1-8cbfea7d2536",
   "metadata": {
    "tags": []
   },
   "outputs": [],
   "source": [
    "df.loc[0:5,\"Album\":\"Soundtrack\"]"
   ]
  },
  {
   "cell_type": "code",
   "execution_count": null,
   "id": "af89c0af-04e0-4326-803f-eadaddce6314",
   "metadata": {
    "tags": []
   },
   "outputs": [],
   "source": [
    "df.iloc[0:5,0:8]"
   ]
  },
  {
   "cell_type": "code",
   "execution_count": null,
   "id": "04da3209-f9a2-4cd3-bc21-0979b479d4b0",
   "metadata": {
    "tags": []
   },
   "outputs": [],
   "source": [
    "df[df.loc[:,\"Rating\"]<9]"
   ]
  },
  {
   "cell_type": "code",
   "execution_count": null,
   "id": "ef1e8d2e-4fee-4f13-9295-8010966f97b3",
   "metadata": {
    "tags": []
   },
   "outputs": [],
   "source": [
    "df[df.loc[:,\"Artist\"]==\"Pink Floyd\"]"
   ]
  },
  {
   "cell_type": "code",
   "execution_count": null,
   "id": "65844e13-4ce1-4a65-b351-7eb02cf1b5bb",
   "metadata": {
    "tags": []
   },
   "outputs": [],
   "source": [
    "df.shape"
   ]
  },
  {
   "cell_type": "code",
   "execution_count": null,
   "id": "1b9b9ab4-4b50-48c1-9719-b0bda99f0460",
   "metadata": {
    "tags": []
   },
   "outputs": [],
   "source": [
    "df.index=['A','B','C','D','E','F','G','H']\n",
    "df"
   ]
  },
  {
   "cell_type": "markdown",
   "id": "b0a227e3-aab1-494f-aac3-68d77d8f9d97",
   "metadata": {},
   "source": [
    "---\n",
    "---"
   ]
  },
  {
   "cell_type": "markdown",
   "id": "4f0200ca-96ab-4552-beed-4270b8527e44",
   "metadata": {},
   "source": [
    "Simple API 2"
   ]
  },
  {
   "cell_type": "code",
   "execution_count": null,
   "id": "cbff8848-bb1c-488e-b4b3-070b823e3ec5",
   "metadata": {
    "tags": []
   },
   "outputs": [],
   "source": [
    "import pandas as pd\n",
    "path2 = \"https://s3-api.us-geo.objectstorage.softlayer.net/cf-courses-data/CognitiveClass/PY0101EN/Chapter%204/Datasets/TopSellingAlbums.xlsx\"\n",
    "df2 = pd.read_excel(path2)\n",
    "df2.head(2)"
   ]
  },
  {
   "cell_type": "code",
   "execution_count": null,
   "id": "f0ce3ddd-c303-4153-b975-388795bfe411",
   "metadata": {
    "tags": []
   },
   "outputs": [],
   "source": [
    "mean = df2[[\"Music Recording Sales (millions)\"]].mean()\n",
    "print(\"Average Music Recording Sales : \",mean,end=\"\\n\\n\")"
   ]
  },
  {
   "cell_type": "markdown",
   "id": "411ab1ad-c6c6-4617-8484-5308ed1e3001",
   "metadata": {},
   "source": [
    "creating datafframes from nested lists"
   ]
  },
  {
   "cell_type": "code",
   "execution_count": null,
   "id": "915f0ab4-4392-4c80-95cd-83b916758d8c",
   "metadata": {
    "tags": []
   },
   "outputs": [],
   "source": [
    "l = [[1,\"Shree\",\"DataBase Group\",500000],\n",
    "     [2,\"Rahul\",\"DataBase Group\",200000],\n",
    "     [3,\"Nigel\",\"Sales Group\",\"350000\"],\n",
    "     [4,\"Vineeth\",\"Engineering Group\",\"400000\"]]\n",
    "df3 = pd.DataFrame(l,columns=[\"ID\",\"Name\",\"Department\",\"Salary\"])\n",
    "df3"
   ]
  },
  {
   "cell_type": "code",
   "execution_count": null,
   "id": "5b6e52d2-5734-49be-aa6b-8016516fc652",
   "metadata": {
    "tags": []
   },
   "outputs": [],
   "source": [
    "df3[[\"Department\",\"Salary\"]].groupby(\"Department\",as_index=False).sum()\n",
    "df3[[\"Department\",\"Salary\"]].groupby(\"Department\").agg([\"min\",\"max\",\"first\",\"last\"])"
   ]
  },
  {
   "cell_type": "code",
   "execution_count": null,
   "id": "12aa3c90-fe2c-44c0-8b11-98259047504b",
   "metadata": {
    "tags": []
   },
   "outputs": [],
   "source": [
    "df3[[\"Salary\"]] = df3[[\"Salary\"]].astype(\"int\")"
   ]
  },
  {
   "cell_type": "code",
   "execution_count": null,
   "id": "1d7e409b-742a-4af8-affa-37660fc47cf4",
   "metadata": {
    "tags": []
   },
   "outputs": [],
   "source": [
    "df3[[\"Salary\"]].apply(lambda d: d/2)"
   ]
  },
  {
   "cell_type": "markdown",
   "id": "79bb00fb-2efb-4ab2-989e-e22a006f46c6",
   "metadata": {},
   "source": [
    "---"
   ]
  },
  {
   "cell_type": "markdown",
   "id": "fd64757e-1959-4c09-b175-d55c8abf535b",
   "metadata": {},
   "source": [
    "bitcoin prices"
   ]
  },
  {
   "cell_type": "code",
   "execution_count": 1,
   "id": "a225eb0d-950a-487b-822b-27d8d7de1142",
   "metadata": {
    "tags": []
   },
   "outputs": [],
   "source": [
    "from pycoingecko import CoinGeckoAPI\n",
    "import plotly.graph_objects as go\n",
    "from plotly.offline import plot"
   ]
  },
  {
   "cell_type": "code",
   "execution_count": 2,
   "id": "300ffe32-61a0-4e65-b8fb-a002919d6bc0",
   "metadata": {
    "tags": []
   },
   "outputs": [],
   "source": [
    "c = CoinGeckoAPI()"
   ]
  },
  {
   "cell_type": "code",
   "execution_count": 3,
   "id": "df556fe1-7b11-4f9b-9e4f-f672f837eefd",
   "metadata": {
    "tags": []
   },
   "outputs": [],
   "source": [
    "data = c.get_coin_market_chart_by_id(id=\"bitcoin\",vs_currency=\"usd\",days=30)"
   ]
  },
  {
   "cell_type": "code",
   "execution_count": 4,
   "id": "b08ce6d7-4a6e-4d09-b4a1-e1b077060156",
   "metadata": {
    "tags": []
   },
   "outputs": [
    {
     "data": {
      "text/html": [
       "<div>\n",
       "<style scoped>\n",
       "    .dataframe tbody tr th:only-of-type {\n",
       "        vertical-align: middle;\n",
       "    }\n",
       "\n",
       "    .dataframe tbody tr th {\n",
       "        vertical-align: top;\n",
       "    }\n",
       "\n",
       "    .dataframe thead th {\n",
       "        text-align: right;\n",
       "    }\n",
       "</style>\n",
       "<table border=\"1\" class=\"dataframe\">\n",
       "  <thead>\n",
       "    <tr style=\"text-align: right;\">\n",
       "      <th></th>\n",
       "      <th>TimeStamp</th>\n",
       "      <th>Prices</th>\n",
       "    </tr>\n",
       "  </thead>\n",
       "  <tbody>\n",
       "    <tr>\n",
       "      <th>0</th>\n",
       "      <td>1682521201120</td>\n",
       "      <td>29672.992700</td>\n",
       "    </tr>\n",
       "    <tr>\n",
       "      <th>1</th>\n",
       "      <td>1682524903452</td>\n",
       "      <td>29813.783576</td>\n",
       "    </tr>\n",
       "    <tr>\n",
       "      <th>2</th>\n",
       "      <td>1682528467788</td>\n",
       "      <td>29794.322659</td>\n",
       "    </tr>\n",
       "    <tr>\n",
       "      <th>3</th>\n",
       "      <td>1682532038064</td>\n",
       "      <td>29777.229111</td>\n",
       "    </tr>\n",
       "    <tr>\n",
       "      <th>4</th>\n",
       "      <td>1682535670497</td>\n",
       "      <td>29742.404829</td>\n",
       "    </tr>\n",
       "  </tbody>\n",
       "</table>\n",
       "</div>"
      ],
      "text/plain": [
       "       TimeStamp        Prices\n",
       "0  1682521201120  29672.992700\n",
       "1  1682524903452  29813.783576\n",
       "2  1682528467788  29794.322659\n",
       "3  1682532038064  29777.229111\n",
       "4  1682535670497  29742.404829"
      ]
     },
     "execution_count": 4,
     "metadata": {},
     "output_type": "execute_result"
    }
   ],
   "source": [
    "import pandas as pd\n",
    "df = pd.DataFrame(data['prices'],columns=[\"TimeStamp\",\"Prices\"])\n",
    "df.head()"
   ]
  },
  {
   "cell_type": "code",
   "execution_count": 5,
   "id": "fa248bad-f1f7-4d95-ad7a-be2d357c2fb0",
   "metadata": {
    "tags": []
   },
   "outputs": [],
   "source": [
    "import datetime\n",
    "df['Date']=df[\"TimeStamp\"].apply(lambda d: datetime.date.fromtimestamp(d/1000))"
   ]
  },
  {
   "cell_type": "code",
   "execution_count": 27,
   "id": "10d50fc2-18b0-4fae-a262-70f42dcc3d4c",
   "metadata": {
    "tags": []
   },
   "outputs": [
    {
     "data": {
      "image/png": "[encoded data removed]",
      "text/plain": [
       "<Figure size 640x480 with 1 Axes>"
      ]
     },
     "metadata": {},
     "output_type": "display_data"
    }
   ],
   "source": [
    "import matplotlib.pyplot as plt\n",
    "df[[\"Prices\",\"Date\"]].plot()\n",
    "plt.title(\"Bitcoin Prices in Last 30 days\")\n",
    "plt.xlabel(\"Date\")\n",
    "plt.xticks(rotation=45)\n",
    "plt.ylabel(\"Prices\")\n",
    "plt.show()"
   ]
  },
  {
   "cell_type": "code",
   "execution_count": null,
   "id": "ade0fba1-e223-4185-826d-974d13aa32c0",
   "metadata": {
    "tags": []
   },
   "outputs": [],
   "source": [
    "# view peice range for each date\n",
    "df[[\"Prices\",\"Date\"]].groupby(\"Date\",as_index=False).mean()\n",
    "cdata = df[[\"Prices\",\"Date\"]].groupby(\"Date\",as_index=False).agg({\"Prices\":[\"min\",\"max\",\"first\",\"last\"]})"
   ]
  },
  {
   "cell_type": "code",
   "execution_count": null,
   "id": "d2918fa5-9e64-49ed-8018-cabc2340e6f6",
   "metadata": {
    "tags": []
   },
   "outputs": [],
   "source": [
    "fig = go.Figure(data=[go.Candlestick(\n",
    "    x=cdata[\"Date\"],\n",
    "    open=cdata[\"Prices\"][\"first\"],\n",
    "    close=cdata[\"Prices\"][\"last\"],\n",
    "    low=cdata[\"Prices\"][\"min\"],\n",
    "    high=cdata[\"Prices\"][\"max\"]\n",
    ")])\n",
    "fig.update_layout(xaxis_rangeslider_visible=False,xaxis_title=\"Date\",yaxis_title=\"Prices(USD)\",title=\"Bitcoin Prices over last 30 days\")\n",
    "plot(fig)"
   ]
  },
  {
   "cell_type": "markdown",
   "id": "f88538eb-d0dd-44b5-a27a-f4acf800df9d",
   "metadata": {},
   "source": [
    "---\n",
    "---"
   ]
  },
  {
   "cell_type": "markdown",
   "id": "a5053f7e-bbe0-4224-81f7-db45cc95deca",
   "metadata": {},
   "source": [
    "HTTP Requests and Responses"
   ]
  },
  {
   "cell_type": "code",
   "execution_count": null,
   "id": "ca3277d5-96b1-4d4f-91f0-d8346efc1e85",
   "metadata": {
    "tags": []
   },
   "outputs": [],
   "source": [
    "import requests"
   ]
  },
  {
   "cell_type": "code",
   "execution_count": null,
   "id": "777d1d16-c796-49bd-8e73-9e0a02e458a3",
   "metadata": {
    "tags": []
   },
   "outputs": [],
   "source": [
    "url=\"https://www.hackerrank.com/dashboard\"\n",
    "r= requests.get(url)"
   ]
  },
  {
   "cell_type": "code",
   "execution_count": null,
   "id": "d68eef8d-225a-434d-8de9-0e4861b95dae",
   "metadata": {
    "tags": []
   },
   "outputs": [],
   "source": [
    "print(r.content)"
   ]
  },
  {
   "cell_type": "code",
   "execution_count": null,
   "id": "bf4de1e9-ffa7-42c8-b277-f253628e99d8",
   "metadata": {
    "tags": []
   },
   "outputs": [],
   "source": [
    "print(\"Request Headers  : \",r.request.headers,end=\"\\n\\n\")\n",
    "print(\"Request Body : \",r.request.body,end=\"\\n\\n\")\n",
    "print(\"Response Headers : \",r.headers,end=\"\\n\\n\")\n",
    "\n",
    "resp_header = r.headers\n",
    "print(\"Content Type : \",resp_header[\"Content-Type\"],end=\"\\n\\n\")\n",
    "print(\"Text Format : \\n\",r.text[0:300],end=\"\\n\\n\")"
   ]
  },
  {
   "cell_type": "markdown",
   "id": "83eb7f11-0851-497f-b42f-bb5e8f4c1edb",
   "metadata": {},
   "source": [
    "importing images"
   ]
  },
  {
   "cell_type": "code",
   "execution_count": null,
   "id": "144764a7-2f4b-4454-a2e3-6c5ae3d173c1",
   "metadata": {
    "tags": []
   },
   "outputs": [],
   "source": [
    "import requests\n",
    "url1 = \"https://cf-courses-data.s3.us.cloud-object-storage.appdomain.cloud/IBMDeveloperSkillsNetwork-PY0101EN-SkillsNetwork/IDSNlogo.png\"\n",
    "url2 = \"https://images.unsplash.com/photo-1601247387326-f8bcb5a234d4?ixlib=rb-4.0.3&ixid=M3wxMjA3fDB8MHxwaG90by1wYWdlfHx8fGVufDB8fHx8fA%3D%3D&auto=format&fit=crop&w=871&q=80\"\n",
    "r_img = requests.get(url2)"
   ]
  },
  {
   "cell_type": "code",
   "execution_count": null,
   "id": "11b49843-4af8-4328-bacb-7b793a3b23af",
   "metadata": {
    "tags": []
   },
   "outputs": [],
   "source": [
    "r_img.content\n",
    "print(\"Text Format : \\n\",r_img.text[0:950],end=\"\\n\\n\")"
   ]
  },
  {
   "cell_type": "code",
   "execution_count": null,
   "id": "e8f39f60-0bda-472c-af7f-d27442886ee7",
   "metadata": {
    "tags": []
   },
   "outputs": [],
   "source": [
    "print(\"Request Headers  : \",r_img.request.headers,end=\"\\n\\n\")\n",
    "print(\"Request Body : \",r_img.request.body,end=\"\\n\\n\")\n",
    "print(\"Response Headers : \",r_img.headers,end=\"\\n\\n\")\n",
    "print(\"URL : \",r_img.url,end=\"\\n\\n\")\n",
    "\n",
    "resp_header = r_img.headers\n",
    "print(\"Content Type : \",resp_header[\"Content-Type\"],end=\"\\n\\n\")\n",
    "print(\"Encoding : \",r_img.encoding,end=\"\\n\\n\")"
   ]
  },
  {
   "cell_type": "code",
   "execution_count": null,
   "id": "5559296e-ddf8-4569-9ac3-49f668f7ae49",
   "metadata": {
    "tags": []
   },
   "outputs": [],
   "source": [
    "import os\n",
    "from PIL import Image"
   ]
  },
  {
   "cell_type": "code",
   "execution_count": null,
   "id": "2fbf1f4c-afcf-4b16-b725-f9086a175bc7",
   "metadata": {
    "tags": []
   },
   "outputs": [],
   "source": [
    "path = os.path.join(os.getcwd(),'image.png')\n",
    "print(\"Path : \",path,end=\"\\n\\n\")\n",
    "with open(path,\"wb\") as file:\n",
    "    file.write(r_img.content)"
   ]
  },
  {
   "cell_type": "code",
   "execution_count": null,
   "id": "46f8cb32-6af1-4c44-851b-1b516f8515b9",
   "metadata": {
    "tags": []
   },
   "outputs": [],
   "source": [
    "Image.open(path)"
   ]
  },
  {
   "cell_type": "markdown",
   "id": "f7287a51-534f-425d-af89-12e8e9326ea6",
   "metadata": {},
   "source": [
    "GET method with URL parameters"
   ]
  },
  {
   "cell_type": "code",
   "execution_count": null,
   "id": "f0d0be15-2830-42b8-98b7-7942f171082c",
   "metadata": {
    "tags": []
   },
   "outputs": [],
   "source": [
    "import requests\n",
    "url3 = \"http://httpbin.org/get\"\n",
    "paramter = {\"Name\":\"Shree\",\"ID\":\"1015\"}\n",
    "r_get = requests.get(url3,params=paramter)"
   ]
  },
  {
   "cell_type": "code",
   "execution_count": null,
   "id": "400c5146-f22c-4ced-86fd-f4ef1c5d6d7b",
   "metadata": {
    "tags": []
   },
   "outputs": [],
   "source": [
    "print(\"Requests header : \",r_get.request.headers,end=\"\\n\\n\")\n",
    "print(\"Requests body : \",r_get.request.body,end=\"\\n\\n\")\n",
    "print(\"Response header : \",r_get.headers,end=\"\\n\\n\")\n",
    "print(\"Response encoding : \",r_get.encoding,end=\"\\n\\n\")\n",
    "\n",
    "headers = r_get.headers\n",
    "print(\"Content Type : \",headers[\"Content-Type\"],end=\"\\n\\n\")\n",
    "print(\"URL : \",r_get.url,end=\"\\n\\n\")"
   ]
  },
  {
   "cell_type": "code",
   "execution_count": null,
   "id": "92a3c440-ac07-449c-bbcd-c9bed6861faa",
   "metadata": {
    "tags": []
   },
   "outputs": [],
   "source": [
    "print(\"Contents : \",r_get.content,end=\"\\n\\n\")\n",
    "print(\"JSON to Dictionary : \",r_get.json(),end=\"\\n\\n\")\n",
    "\n",
    "cont = r_get.json()\n",
    "print(\"arguments : \",cont[\"args\"],end=\"\\n\\n\")\n",
    "print(\"origin : \",cont[\"origin\"],end=\"\\n\\n\")"
   ]
  },
  {
   "cell_type": "markdown",
   "id": "36510e78-2329-4f5a-b705-7b31b302f66f",
   "metadata": {},
   "source": [
    "POST method with URL parameters"
   ]
  },
  {
   "cell_type": "code",
   "execution_count": null,
   "id": "2e582c2a-58dd-4a44-97d1-025b5f8ef8af",
   "metadata": {
    "tags": []
   },
   "outputs": [],
   "source": [
    "url4 = \" http://httpbin.org/post\"\n",
    "paramter = {\"Name\":\"Shree\",\"ID\":\"1015\"}\n",
    "r_post = requests.post(url4,data = paramter)"
   ]
  },
  {
   "cell_type": "code",
   "execution_count": null,
   "id": "a7cbc762-9540-40b8-acf9-a374b0c084af",
   "metadata": {
    "tags": []
   },
   "outputs": [],
   "source": [
    "print(\"Requests header : \",r_post.request.headers,end=\"\\n\\n\")\n",
    "print(\"Requests body : \",r_post.request.body,end=\"\\n\\n\")\n",
    "print(\"Response header : \",r_post.headers,end=\"\\n\\n\")\n",
    "print(\"Response encoding : \",r_post.encoding,end=\"\\n\\n\")\n",
    "\n",
    "headers = r_post.headers\n",
    "print(\"Content Type : \",headers[\"Content-Type\"],end=\"\\n\\n\")\n",
    "print(\"URL : \",r_post.url,end=\"\\n\\n\")\n",
    "\n",
    "print(\"Contents : \",r_post.content,end=\"\\n\\n\")\n",
    "print(\"JSON to Dictionary : \",r_post.json(),end=\"\\n\\n\")\n",
    "\n",
    "cont = r_post.json()\n",
    "print(\"arguments : \",cont[\"args\"],end=\"\\n\\n\")\n",
    "print(\"origin : \",cont[\"origin\"],end=\"\\n\\n\")\n",
    "print(\"form : \",cont[\"form\"],end=\"\\n\\n\")"
   ]
  },
  {
   "cell_type": "code",
   "execution_count": null,
   "id": "b9083a05-6ffa-4937-b69e-f5340d7e981e",
   "metadata": {
    "tags": []
   },
   "outputs": [],
   "source": [
    "r_get.status_code"
   ]
  },
  {
   "cell_type": "markdown",
   "id": "e5caa59b-82bb-40d6-a5e1-5cbee00e3096",
   "metadata": {},
   "source": [
    "importing files"
   ]
  },
  {
   "cell_type": "code",
   "execution_count": null,
   "id": "3a70fd8c-6235-4907-baf7-91390c4bcf05",
   "metadata": {
    "tags": []
   },
   "outputs": [],
   "source": [
    "path = os.path.join(os.getcwd(),'file.txt')\n",
    "path"
   ]
  },
  {
   "cell_type": "code",
   "execution_count": null,
   "id": "ca7fefd8-798f-4970-a567-7f2fcf4c1abc",
   "metadata": {
    "tags": []
   },
   "outputs": [],
   "source": [
    "r_text = requests.get(\"https://example-files.online-convert.com/document/txt/example.txt\")\n",
    "print(\"Requests header : \",r_text.request.headers,end=\"\\n\\n\")\n",
    "print(\"Requests body : \",r_text.request.body,end=\"\\n\\n\")\n",
    "print(\"Response header : \",r_text.headers,end=\"\\n\\n\")\n",
    "print(\"Response encoding : \",r_text.encoding,end=\"\\n\\n\")\n",
    "\n",
    "headers = r_text.headers\n",
    "print(\"Content Type : \",headers[\"Content-Type\"],end=\"\\n\\n\")\n",
    "print(\"URL : \",r_text.url,end=\"\\n\\n\")\n",
    "\n",
    "print(\"Contents : \",r_text.content,end=\"\\n\\n\")\n",
    "# print(\"bytes to text : \",r_text.text,end=\"\\n\\n\")"
   ]
  },
  {
   "cell_type": "code",
   "execution_count": null,
   "id": "8287b3ae-3be1-47d6-b0c1-a3f0b64c1c2d",
   "metadata": {
    "tags": []
   },
   "outputs": [],
   "source": [
    "with open(path,\"wb\") as wfile:\n",
    "    wfile.write(r_text.content)\n",
    "with open(path,\"r\") as rfile:\n",
    "    print(rfile.read())"
   ]
  },
  {
   "cell_type": "markdown",
   "id": "8562ffc9-b171-42b2-abeb-312d91e1cee4",
   "metadata": {
    "tags": []
   },
   "source": [
    "___"
   ]
  },
  {
   "cell_type": "markdown",
   "id": "e871ba53-c083-4325-9e3e-2b2641dae3e0",
   "metadata": {
    "tags": []
   },
   "source": [
    "___"
   ]
  },
  {
   "cell_type": "markdown",
   "id": "eb35db58-2687-4121-bc88-07193093aab9",
   "metadata": {
    "tags": []
   },
   "source": [
    "## More APIs"
   ]
  },
  {
   "cell_type": "code",
   "execution_count": null,
   "id": "6211c5a5-6de9-4615-b7da-84c7ed7fc8a0",
   "metadata": {
    "tags": []
   },
   "outputs": [],
   "source": [
    "!pip install randomuser"
   ]
  },
  {
   "cell_type": "code",
   "execution_count": 1,
   "id": "00903feb-992d-4d9b-9164-325c50c167df",
   "metadata": {
    "tags": []
   },
   "outputs": [],
   "source": [
    "from randomuser import RandomUser\n",
    "import pandas as pd"
   ]
  },
  {
   "cell_type": "code",
   "execution_count": 2,
   "id": "859d202c-de16-4a96-aa9e-b20d8a4289e0",
   "metadata": {
    "tags": []
   },
   "outputs": [
    {
     "data": {
      "text/plain": [
       "<randomuser.RandomUser at 0x7f539e8454b0>"
      ]
     },
     "execution_count": 2,
     "metadata": {},
     "output_type": "execute_result"
    }
   ],
   "source": [
    "ru = RandomUser()\n",
    "ru"
   ]
  },
  {
   "cell_type": "code",
   "execution_count": 12,
   "id": "79e8e8f1-3a58-42bb-aed3-93e059781a55",
   "metadata": {
    "tags": []
   },
   "outputs": [
    {
     "data": {
      "text/html": [
       "<div>\n",
       "<style scoped>\n",
       "    .dataframe tbody tr th:only-of-type {\n",
       "        vertical-align: middle;\n",
       "    }\n",
       "\n",
       "    .dataframe tbody tr th {\n",
       "        vertical-align: top;\n",
       "    }\n",
       "\n",
       "    .dataframe thead th {\n",
       "        text-align: right;\n",
       "    }\n",
       "</style>\n",
       "<table border=\"1\" class=\"dataframe\">\n",
       "  <thead>\n",
       "    <tr style=\"text-align: right;\">\n",
       "      <th></th>\n",
       "      <th>Name</th>\n",
       "      <th>City</th>\n",
       "      <th>DoB</th>\n",
       "      <th>Email</th>\n",
       "      <th>Cell</th>\n",
       "      <th>Street</th>\n",
       "      <th>State</th>\n",
       "      <th>Zip_Code</th>\n",
       "    </tr>\n",
       "  </thead>\n",
       "  <tbody>\n",
       "    <tr>\n",
       "      <th>0</th>\n",
       "      <td>Emily Burke</td>\n",
       "      <td>Athlone</td>\n",
       "      <td>1995-08-30T00:24:40.056Z</td>\n",
       "      <td>emily.burke@example.com</td>\n",
       "      <td>081-817-2253</td>\n",
       "      <td>7181 O'Connell Avenue</td>\n",
       "      <td>Tipperary</td>\n",
       "      <td>20103</td>\n",
       "    </tr>\n",
       "    <tr>\n",
       "      <th>1</th>\n",
       "      <td>Lumi Jarvela</td>\n",
       "      <td>Lappajärvi</td>\n",
       "      <td>1976-01-19T09:29:33.342Z</td>\n",
       "      <td>lumi.jarvela@example.com</td>\n",
       "      <td>049-947-65-23</td>\n",
       "      <td>9671 Itsenäisyydenkatu</td>\n",
       "      <td>Finland Proper</td>\n",
       "      <td>54684</td>\n",
       "    </tr>\n",
       "    <tr>\n",
       "      <th>2</th>\n",
       "      <td>Rahel Keitel</td>\n",
       "      <td>Neuburg-Schrobenhausen</td>\n",
       "      <td>1978-12-09T23:13:39.406Z</td>\n",
       "      <td>rahel.keitel@example.com</td>\n",
       "      <td>0179-7798618</td>\n",
       "      <td>2261 Neue Straße</td>\n",
       "      <td>Nordrhein-Westfalen</td>\n",
       "      <td>88126</td>\n",
       "    </tr>\n",
       "    <tr>\n",
       "      <th>3</th>\n",
       "      <td>Elmer Lucas</td>\n",
       "      <td>Roscommon</td>\n",
       "      <td>1983-01-14T06:46:25.360Z</td>\n",
       "      <td>elmer.lucas@example.com</td>\n",
       "      <td>081-193-0366</td>\n",
       "      <td>1619 Albert Road</td>\n",
       "      <td>Westmeath</td>\n",
       "      <td>56261</td>\n",
       "    </tr>\n",
       "    <tr>\n",
       "      <th>4</th>\n",
       "      <td>Addison Ginnish</td>\n",
       "      <td>Port Elgin</td>\n",
       "      <td>1959-06-04T03:35:59.750Z</td>\n",
       "      <td>addison.ginnish@example.com</td>\n",
       "      <td>072-614-4364</td>\n",
       "      <td>6222 Queen St</td>\n",
       "      <td>British Columbia</td>\n",
       "      <td>G0C 6O7</td>\n",
       "    </tr>\n",
       "    <tr>\n",
       "      <th>5</th>\n",
       "      <td>Shaun Boyd</td>\n",
       "      <td>Wells</td>\n",
       "      <td>1981-11-09T23:16:19.913Z</td>\n",
       "      <td>shaun.boyd@example.com</td>\n",
       "      <td>0723-546-101</td>\n",
       "      <td>997 North Road</td>\n",
       "      <td>Devon</td>\n",
       "      <td>T00 4UW</td>\n",
       "    </tr>\n",
       "    <tr>\n",
       "      <th>6</th>\n",
       "      <td>Raphaël Lecomte</td>\n",
       "      <td>Aulnay-sous-Bois</td>\n",
       "      <td>1981-09-15T21:04:32.496Z</td>\n",
       "      <td>raphael.lecomte@example.com</td>\n",
       "      <td>06-29-34-49-31</td>\n",
       "      <td>5568 Rue du Bon-Pasteur</td>\n",
       "      <td>Loiret</td>\n",
       "      <td>16637</td>\n",
       "    </tr>\n",
       "    <tr>\n",
       "      <th>7</th>\n",
       "      <td>Benjamin Morris</td>\n",
       "      <td>Greymouth</td>\n",
       "      <td>1960-10-24T06:39:55.408Z</td>\n",
       "      <td>benjamin.morris@example.com</td>\n",
       "      <td>(443)-070-2374</td>\n",
       "      <td>1894 New North Road</td>\n",
       "      <td>Hawke'S Bay</td>\n",
       "      <td>10842</td>\n",
       "    </tr>\n",
       "    <tr>\n",
       "      <th>8</th>\n",
       "      <td>Lamberdina De Smidt</td>\n",
       "      <td>Zeist</td>\n",
       "      <td>1959-02-01T14:09:49.354Z</td>\n",
       "      <td>lamberdina.desmidt@example.com</td>\n",
       "      <td>(06) 88834924</td>\n",
       "      <td>595 Kolderveense Bovenboer</td>\n",
       "      <td>Limburg</td>\n",
       "      <td>9038 CN</td>\n",
       "    </tr>\n",
       "    <tr>\n",
       "      <th>9</th>\n",
       "      <td>Jula Boone</td>\n",
       "      <td>Papenvoort</td>\n",
       "      <td>1993-04-24T03:44:40.910Z</td>\n",
       "      <td>jula.boone@example.com</td>\n",
       "      <td>(06) 09505179</td>\n",
       "      <td>8794 Jan Reitsmastraat</td>\n",
       "      <td>Friesland</td>\n",
       "      <td>3674 GZ</td>\n",
       "    </tr>\n",
       "  </tbody>\n",
       "</table>\n",
       "</div>"
      ],
      "text/plain": [
       "                  Name                    City                       DoB   \n",
       "0          Emily Burke                 Athlone  1995-08-30T00:24:40.056Z  \\\n",
       "1         Lumi Jarvela              Lappajärvi  1976-01-19T09:29:33.342Z   \n",
       "2         Rahel Keitel  Neuburg-Schrobenhausen  1978-12-09T23:13:39.406Z   \n",
       "3          Elmer Lucas               Roscommon  1983-01-14T06:46:25.360Z   \n",
       "4      Addison Ginnish              Port Elgin  1959-06-04T03:35:59.750Z   \n",
       "5           Shaun Boyd                   Wells  1981-11-09T23:16:19.913Z   \n",
       "6      Raphaël Lecomte        Aulnay-sous-Bois  1981-09-15T21:04:32.496Z   \n",
       "7      Benjamin Morris               Greymouth  1960-10-24T06:39:55.408Z   \n",
       "8  Lamberdina De Smidt                   Zeist  1959-02-01T14:09:49.354Z   \n",
       "9           Jula Boone              Papenvoort  1993-04-24T03:44:40.910Z   \n",
       "\n",
       "                            Email            Cell                      Street   \n",
       "0         emily.burke@example.com    081-817-2253       7181 O'Connell Avenue  \\\n",
       "1        lumi.jarvela@example.com   049-947-65-23      9671 Itsenäisyydenkatu   \n",
       "2        rahel.keitel@example.com    0179-7798618            2261 Neue Straße   \n",
       "3         elmer.lucas@example.com    081-193-0366            1619 Albert Road   \n",
       "4     addison.ginnish@example.com    072-614-4364               6222 Queen St   \n",
       "5          shaun.boyd@example.com    0723-546-101              997 North Road   \n",
       "6     raphael.lecomte@example.com  06-29-34-49-31     5568 Rue du Bon-Pasteur   \n",
       "7     benjamin.morris@example.com  (443)-070-2374         1894 New North Road   \n",
       "8  lamberdina.desmidt@example.com   (06) 88834924  595 Kolderveense Bovenboer   \n",
       "9          jula.boone@example.com   (06) 09505179      8794 Jan Reitsmastraat   \n",
       "\n",
       "                 State Zip_Code  \n",
       "0            Tipperary    20103  \n",
       "1       Finland Proper    54684  \n",
       "2  Nordrhein-Westfalen    88126  \n",
       "3            Westmeath    56261  \n",
       "4     British Columbia  G0C 6O7  \n",
       "5                Devon  T00 4UW  \n",
       "6               Loiret    16637  \n",
       "7          Hawke'S Bay    10842  \n",
       "8              Limburg  9038 CN  \n",
       "9            Friesland  3674 GZ  "
      ]
     },
     "execution_count": 12,
     "metadata": {},
     "output_type": "execute_result"
    }
   ],
   "source": [
    "list_ = ru.generate_users(10)\n",
    "data = {\"Name\":[],\"City\":[],\"DoB\":[],\"Email\":[],\"Cell\":[],\"Street\":[],\"State\":[],\"Zip_Code\":[]}\n",
    "for i,j in enumerate(list_):\n",
    "    \n",
    "    data[\"Name\"].append(j.get_full_name())\n",
    "    data[\"City\"].append(j.get_city())\n",
    "    data[\"DoB\"].append(j.get_dob())\n",
    "    data[\"Email\"].append(j.get_email())\n",
    "    data[\"Cell\"].append(j.get_cell())\n",
    "    data[\"Street\"].append(j.get_street())\n",
    "    data[\"State\"].append(j.get_state())\n",
    "    data[\"Zip_Code\"].append(j.get_zipcode())\n",
    "df = pd.DataFrame(data)\n",
    "df"
   ]
  },
  {
   "cell_type": "code",
   "execution_count": 26,
   "id": "cc91815d-15df-4667-b038-55a9a13d0271",
   "metadata": {
    "tags": []
   },
   "outputs": [
    {
     "ename": "KeyError",
     "evalue": "\"['DoB'] not found in axis\"",
     "output_type": "error",
     "traceback": [
      "\u001b[0;31m---------------------------------------------------------------------------\u001b[0m",
      "\u001b[0;31mKeyError\u001b[0m                                  Traceback (most recent call last)",
      "Cell \u001b[0;32mIn[26], line 1\u001b[0m\n\u001b[0;32m----> 1\u001b[0m \u001b[43mdf\u001b[49m\u001b[38;5;241;43m.\u001b[39;49m\u001b[43mdrop\u001b[49m\u001b[43m(\u001b[49m\u001b[38;5;124;43m\"\u001b[39;49m\u001b[38;5;124;43mDoB\u001b[39;49m\u001b[38;5;124;43m\"\u001b[39;49m\u001b[43m)\u001b[49m\n",
      "File \u001b[0;32m/opt/conda/lib/python3.10/site-packages/pandas/core/frame.py:5268\u001b[0m, in \u001b[0;36mDataFrame.drop\u001b[0;34m(self, labels, axis, index, columns, level, inplace, errors)\u001b[0m\n\u001b[1;32m   5120\u001b[0m \u001b[38;5;28;01mdef\u001b[39;00m \u001b[38;5;21mdrop\u001b[39m(\n\u001b[1;32m   5121\u001b[0m     \u001b[38;5;28mself\u001b[39m,\n\u001b[1;32m   5122\u001b[0m     labels: IndexLabel \u001b[38;5;241m=\u001b[39m \u001b[38;5;28;01mNone\u001b[39;00m,\n\u001b[0;32m   (...)\u001b[0m\n\u001b[1;32m   5129\u001b[0m     errors: IgnoreRaise \u001b[38;5;241m=\u001b[39m \u001b[38;5;124m\"\u001b[39m\u001b[38;5;124mraise\u001b[39m\u001b[38;5;124m\"\u001b[39m,\n\u001b[1;32m   5130\u001b[0m ) \u001b[38;5;241m-\u001b[39m\u001b[38;5;241m>\u001b[39m DataFrame \u001b[38;5;241m|\u001b[39m \u001b[38;5;28;01mNone\u001b[39;00m:\n\u001b[1;32m   5131\u001b[0m \u001b[38;5;250m    \u001b[39m\u001b[38;5;124;03m\"\"\"\u001b[39;00m\n\u001b[1;32m   5132\u001b[0m \u001b[38;5;124;03m    Drop specified labels from rows or columns.\u001b[39;00m\n\u001b[1;32m   5133\u001b[0m \n\u001b[0;32m   (...)\u001b[0m\n\u001b[1;32m   5266\u001b[0m \u001b[38;5;124;03m            weight  1.0     0.8\u001b[39;00m\n\u001b[1;32m   5267\u001b[0m \u001b[38;5;124;03m    \"\"\"\u001b[39;00m\n\u001b[0;32m-> 5268\u001b[0m     \u001b[38;5;28;01mreturn\u001b[39;00m \u001b[38;5;28;43msuper\u001b[39;49m\u001b[43m(\u001b[49m\u001b[43m)\u001b[49m\u001b[38;5;241;43m.\u001b[39;49m\u001b[43mdrop\u001b[49m\u001b[43m(\u001b[49m\n\u001b[1;32m   5269\u001b[0m \u001b[43m        \u001b[49m\u001b[43mlabels\u001b[49m\u001b[38;5;241;43m=\u001b[39;49m\u001b[43mlabels\u001b[49m\u001b[43m,\u001b[49m\n\u001b[1;32m   5270\u001b[0m \u001b[43m        \u001b[49m\u001b[43maxis\u001b[49m\u001b[38;5;241;43m=\u001b[39;49m\u001b[43maxis\u001b[49m\u001b[43m,\u001b[49m\n\u001b[1;32m   5271\u001b[0m \u001b[43m        \u001b[49m\u001b[43mindex\u001b[49m\u001b[38;5;241;43m=\u001b[39;49m\u001b[43mindex\u001b[49m\u001b[43m,\u001b[49m\n\u001b[1;32m   5272\u001b[0m \u001b[43m        \u001b[49m\u001b[43mcolumns\u001b[49m\u001b[38;5;241;43m=\u001b[39;49m\u001b[43mcolumns\u001b[49m\u001b[43m,\u001b[49m\n\u001b[1;32m   5273\u001b[0m \u001b[43m        \u001b[49m\u001b[43mlevel\u001b[49m\u001b[38;5;241;43m=\u001b[39;49m\u001b[43mlevel\u001b[49m\u001b[43m,\u001b[49m\n\u001b[1;32m   5274\u001b[0m \u001b[43m        \u001b[49m\u001b[43minplace\u001b[49m\u001b[38;5;241;43m=\u001b[39;49m\u001b[43minplace\u001b[49m\u001b[43m,\u001b[49m\n\u001b[1;32m   5275\u001b[0m \u001b[43m        \u001b[49m\u001b[43merrors\u001b[49m\u001b[38;5;241;43m=\u001b[39;49m\u001b[43merrors\u001b[49m\u001b[43m,\u001b[49m\n\u001b[1;32m   5276\u001b[0m \u001b[43m    \u001b[49m\u001b[43m)\u001b[49m\n",
      "File \u001b[0;32m/opt/conda/lib/python3.10/site-packages/pandas/core/generic.py:4549\u001b[0m, in \u001b[0;36mNDFrame.drop\u001b[0;34m(self, labels, axis, index, columns, level, inplace, errors)\u001b[0m\n\u001b[1;32m   4547\u001b[0m \u001b[38;5;28;01mfor\u001b[39;00m axis, labels \u001b[38;5;129;01min\u001b[39;00m axes\u001b[38;5;241m.\u001b[39mitems():\n\u001b[1;32m   4548\u001b[0m     \u001b[38;5;28;01mif\u001b[39;00m labels \u001b[38;5;129;01mis\u001b[39;00m \u001b[38;5;129;01mnot\u001b[39;00m \u001b[38;5;28;01mNone\u001b[39;00m:\n\u001b[0;32m-> 4549\u001b[0m         obj \u001b[38;5;241m=\u001b[39m \u001b[43mobj\u001b[49m\u001b[38;5;241;43m.\u001b[39;49m\u001b[43m_drop_axis\u001b[49m\u001b[43m(\u001b[49m\u001b[43mlabels\u001b[49m\u001b[43m,\u001b[49m\u001b[43m \u001b[49m\u001b[43maxis\u001b[49m\u001b[43m,\u001b[49m\u001b[43m \u001b[49m\u001b[43mlevel\u001b[49m\u001b[38;5;241;43m=\u001b[39;49m\u001b[43mlevel\u001b[49m\u001b[43m,\u001b[49m\u001b[43m \u001b[49m\u001b[43merrors\u001b[49m\u001b[38;5;241;43m=\u001b[39;49m\u001b[43merrors\u001b[49m\u001b[43m)\u001b[49m\n\u001b[1;32m   4551\u001b[0m \u001b[38;5;28;01mif\u001b[39;00m inplace:\n\u001b[1;32m   4552\u001b[0m     \u001b[38;5;28mself\u001b[39m\u001b[38;5;241m.\u001b[39m_update_inplace(obj)\n",
      "File \u001b[0;32m/opt/conda/lib/python3.10/site-packages/pandas/core/generic.py:4591\u001b[0m, in \u001b[0;36mNDFrame._drop_axis\u001b[0;34m(self, labels, axis, level, errors, only_slice)\u001b[0m\n\u001b[1;32m   4589\u001b[0m         new_axis \u001b[38;5;241m=\u001b[39m axis\u001b[38;5;241m.\u001b[39mdrop(labels, level\u001b[38;5;241m=\u001b[39mlevel, errors\u001b[38;5;241m=\u001b[39merrors)\n\u001b[1;32m   4590\u001b[0m     \u001b[38;5;28;01melse\u001b[39;00m:\n\u001b[0;32m-> 4591\u001b[0m         new_axis \u001b[38;5;241m=\u001b[39m \u001b[43maxis\u001b[49m\u001b[38;5;241;43m.\u001b[39;49m\u001b[43mdrop\u001b[49m\u001b[43m(\u001b[49m\u001b[43mlabels\u001b[49m\u001b[43m,\u001b[49m\u001b[43m \u001b[49m\u001b[43merrors\u001b[49m\u001b[38;5;241;43m=\u001b[39;49m\u001b[43merrors\u001b[49m\u001b[43m)\u001b[49m\n\u001b[1;32m   4592\u001b[0m     indexer \u001b[38;5;241m=\u001b[39m axis\u001b[38;5;241m.\u001b[39mget_indexer(new_axis)\n\u001b[1;32m   4594\u001b[0m \u001b[38;5;66;03m# Case for non-unique axis\u001b[39;00m\n\u001b[1;32m   4595\u001b[0m \u001b[38;5;28;01melse\u001b[39;00m:\n",
      "File \u001b[0;32m/opt/conda/lib/python3.10/site-packages/pandas/core/indexes/base.py:6696\u001b[0m, in \u001b[0;36mIndex.drop\u001b[0;34m(self, labels, errors)\u001b[0m\n\u001b[1;32m   6694\u001b[0m \u001b[38;5;28;01mif\u001b[39;00m mask\u001b[38;5;241m.\u001b[39many():\n\u001b[1;32m   6695\u001b[0m     \u001b[38;5;28;01mif\u001b[39;00m errors \u001b[38;5;241m!=\u001b[39m \u001b[38;5;124m\"\u001b[39m\u001b[38;5;124mignore\u001b[39m\u001b[38;5;124m\"\u001b[39m:\n\u001b[0;32m-> 6696\u001b[0m         \u001b[38;5;28;01mraise\u001b[39;00m \u001b[38;5;167;01mKeyError\u001b[39;00m(\u001b[38;5;124mf\u001b[39m\u001b[38;5;124m\"\u001b[39m\u001b[38;5;132;01m{\u001b[39;00m\u001b[38;5;28mlist\u001b[39m(labels[mask])\u001b[38;5;132;01m}\u001b[39;00m\u001b[38;5;124m not found in axis\u001b[39m\u001b[38;5;124m\"\u001b[39m)\n\u001b[1;32m   6697\u001b[0m     indexer \u001b[38;5;241m=\u001b[39m indexer[\u001b[38;5;241m~\u001b[39mmask]\n\u001b[1;32m   6698\u001b[0m \u001b[38;5;28;01mreturn\u001b[39;00m \u001b[38;5;28mself\u001b[39m\u001b[38;5;241m.\u001b[39mdelete(indexer)\n",
      "\u001b[0;31mKeyError\u001b[0m: \"['DoB'] not found in axis\""
     ]
    }
   ],
   "source": [
    "df.drop([\"DoB\"])"
   ]
  },
  {
   "cell_type": "code",
   "execution_count": 29,
   "id": "d67000d0-b919-46c7-9a8e-4aa901b0772d",
   "metadata": {
    "tags": []
   },
   "outputs": [],
   "source": [
    "l = list(df['DoB'])\n",
    "df2 = pd.to_datetime(l)\n",
    "df2 = pd.DataFrame(df2)\n",
    "df2 = df2[0].dt.date\n",
    "type(df2)\n",
    "df[\"Date\"] = df2"
   ]
  },
  {
   "cell_type": "code",
   "execution_count": 32,
   "id": "4b48f273-c1ba-4749-a1f3-8002e0be820b",
   "metadata": {
    "tags": []
   },
   "outputs": [
    {
     "data": {
      "text/html": [
       "<div>\n",
       "<style scoped>\n",
       "    .dataframe tbody tr th:only-of-type {\n",
       "        vertical-align: middle;\n",
       "    }\n",
       "\n",
       "    .dataframe tbody tr th {\n",
       "        vertical-align: top;\n",
       "    }\n",
       "\n",
       "    .dataframe thead th {\n",
       "        text-align: right;\n",
       "    }\n",
       "</style>\n",
       "<table border=\"1\" class=\"dataframe\">\n",
       "  <thead>\n",
       "    <tr style=\"text-align: right;\">\n",
       "      <th></th>\n",
       "      <th>Name</th>\n",
       "      <th>City</th>\n",
       "      <th>Email</th>\n",
       "      <th>Cell</th>\n",
       "      <th>Street</th>\n",
       "      <th>State</th>\n",
       "      <th>Zip_Code</th>\n",
       "      <th>Date</th>\n",
       "    </tr>\n",
       "  </thead>\n",
       "  <tbody>\n",
       "    <tr>\n",
       "      <th>0</th>\n",
       "      <td>Emily Burke</td>\n",
       "      <td>Athlone</td>\n",
       "      <td>emily.burke@example.com</td>\n",
       "      <td>081-817-2253</td>\n",
       "      <td>7181 O'Connell Avenue</td>\n",
       "      <td>Tipperary</td>\n",
       "      <td>20103</td>\n",
       "      <td>1995-08-30</td>\n",
       "    </tr>\n",
       "    <tr>\n",
       "      <th>1</th>\n",
       "      <td>Lumi Jarvela</td>\n",
       "      <td>Lappajärvi</td>\n",
       "      <td>lumi.jarvela@example.com</td>\n",
       "      <td>049-947-65-23</td>\n",
       "      <td>9671 Itsenäisyydenkatu</td>\n",
       "      <td>Finland Proper</td>\n",
       "      <td>54684</td>\n",
       "      <td>1976-01-19</td>\n",
       "    </tr>\n",
       "    <tr>\n",
       "      <th>2</th>\n",
       "      <td>Rahel Keitel</td>\n",
       "      <td>Neuburg-Schrobenhausen</td>\n",
       "      <td>rahel.keitel@example.com</td>\n",
       "      <td>0179-7798618</td>\n",
       "      <td>2261 Neue Straße</td>\n",
       "      <td>Nordrhein-Westfalen</td>\n",
       "      <td>88126</td>\n",
       "      <td>1978-12-09</td>\n",
       "    </tr>\n",
       "    <tr>\n",
       "      <th>3</th>\n",
       "      <td>Elmer Lucas</td>\n",
       "      <td>Roscommon</td>\n",
       "      <td>elmer.lucas@example.com</td>\n",
       "      <td>081-193-0366</td>\n",
       "      <td>1619 Albert Road</td>\n",
       "      <td>Westmeath</td>\n",
       "      <td>56261</td>\n",
       "      <td>1983-01-14</td>\n",
       "    </tr>\n",
       "    <tr>\n",
       "      <th>4</th>\n",
       "      <td>Addison Ginnish</td>\n",
       "      <td>Port Elgin</td>\n",
       "      <td>addison.ginnish@example.com</td>\n",
       "      <td>072-614-4364</td>\n",
       "      <td>6222 Queen St</td>\n",
       "      <td>British Columbia</td>\n",
       "      <td>G0C 6O7</td>\n",
       "      <td>1959-06-04</td>\n",
       "    </tr>\n",
       "    <tr>\n",
       "      <th>5</th>\n",
       "      <td>Shaun Boyd</td>\n",
       "      <td>Wells</td>\n",
       "      <td>shaun.boyd@example.com</td>\n",
       "      <td>0723-546-101</td>\n",
       "      <td>997 North Road</td>\n",
       "      <td>Devon</td>\n",
       "      <td>T00 4UW</td>\n",
       "      <td>1981-11-09</td>\n",
       "    </tr>\n",
       "    <tr>\n",
       "      <th>6</th>\n",
       "      <td>Raphaël Lecomte</td>\n",
       "      <td>Aulnay-sous-Bois</td>\n",
       "      <td>raphael.lecomte@example.com</td>\n",
       "      <td>06-29-34-49-31</td>\n",
       "      <td>5568 Rue du Bon-Pasteur</td>\n",
       "      <td>Loiret</td>\n",
       "      <td>16637</td>\n",
       "      <td>1981-09-15</td>\n",
       "    </tr>\n",
       "    <tr>\n",
       "      <th>7</th>\n",
       "      <td>Benjamin Morris</td>\n",
       "      <td>Greymouth</td>\n",
       "      <td>benjamin.morris@example.com</td>\n",
       "      <td>(443)-070-2374</td>\n",
       "      <td>1894 New North Road</td>\n",
       "      <td>Hawke'S Bay</td>\n",
       "      <td>10842</td>\n",
       "      <td>1960-10-24</td>\n",
       "    </tr>\n",
       "    <tr>\n",
       "      <th>8</th>\n",
       "      <td>Lamberdina De Smidt</td>\n",
       "      <td>Zeist</td>\n",
       "      <td>lamberdina.desmidt@example.com</td>\n",
       "      <td>(06) 88834924</td>\n",
       "      <td>595 Kolderveense Bovenboer</td>\n",
       "      <td>Limburg</td>\n",
       "      <td>9038 CN</td>\n",
       "      <td>1959-02-01</td>\n",
       "    </tr>\n",
       "    <tr>\n",
       "      <th>9</th>\n",
       "      <td>Jula Boone</td>\n",
       "      <td>Papenvoort</td>\n",
       "      <td>jula.boone@example.com</td>\n",
       "      <td>(06) 09505179</td>\n",
       "      <td>8794 Jan Reitsmastraat</td>\n",
       "      <td>Friesland</td>\n",
       "      <td>3674 GZ</td>\n",
       "      <td>1993-04-24</td>\n",
       "    </tr>\n",
       "  </tbody>\n",
       "</table>\n",
       "</div>"
      ],
      "text/plain": [
       "                  Name                    City   \n",
       "0          Emily Burke                 Athlone  \\\n",
       "1         Lumi Jarvela              Lappajärvi   \n",
       "2         Rahel Keitel  Neuburg-Schrobenhausen   \n",
       "3          Elmer Lucas               Roscommon   \n",
       "4      Addison Ginnish              Port Elgin   \n",
       "5           Shaun Boyd                   Wells   \n",
       "6      Raphaël Lecomte        Aulnay-sous-Bois   \n",
       "7      Benjamin Morris               Greymouth   \n",
       "8  Lamberdina De Smidt                   Zeist   \n",
       "9           Jula Boone              Papenvoort   \n",
       "\n",
       "                            Email            Cell                      Street   \n",
       "0         emily.burke@example.com    081-817-2253       7181 O'Connell Avenue  \\\n",
       "1        lumi.jarvela@example.com   049-947-65-23      9671 Itsenäisyydenkatu   \n",
       "2        rahel.keitel@example.com    0179-7798618            2261 Neue Straße   \n",
       "3         elmer.lucas@example.com    081-193-0366            1619 Albert Road   \n",
       "4     addison.ginnish@example.com    072-614-4364               6222 Queen St   \n",
       "5          shaun.boyd@example.com    0723-546-101              997 North Road   \n",
       "6     raphael.lecomte@example.com  06-29-34-49-31     5568 Rue du Bon-Pasteur   \n",
       "7     benjamin.morris@example.com  (443)-070-2374         1894 New North Road   \n",
       "8  lamberdina.desmidt@example.com   (06) 88834924  595 Kolderveense Bovenboer   \n",
       "9          jula.boone@example.com   (06) 09505179      8794 Jan Reitsmastraat   \n",
       "\n",
       "                 State Zip_Code        Date  \n",
       "0            Tipperary    20103  1995-08-30  \n",
       "1       Finland Proper    54684  1976-01-19  \n",
       "2  Nordrhein-Westfalen    88126  1978-12-09  \n",
       "3            Westmeath    56261  1983-01-14  \n",
       "4     British Columbia  G0C 6O7  1959-06-04  \n",
       "5                Devon  T00 4UW  1981-11-09  \n",
       "6               Loiret    16637  1981-09-15  \n",
       "7          Hawke'S Bay    10842  1960-10-24  \n",
       "8              Limburg  9038 CN  1959-02-01  \n",
       "9            Friesland  3674 GZ  1993-04-24  "
      ]
     },
     "execution_count": 32,
     "metadata": {},
     "output_type": "execute_result"
    }
   ],
   "source": [
    "df.drop(\"DoB\",axis=1)"
   ]
  },
  {
   "cell_type": "markdown",
   "id": "c87b8ebc-f320-46ed-811c-a629475334ea",
   "metadata": {},
   "source": [
    "## Another API"
   ]
  },
  {
   "cell_type": "code",
   "execution_count": null,
   "id": "fe959b8f-5ae9-44aa-9b0e-78d85f715483",
   "metadata": {
    "tags": []
   },
   "outputs": [],
   "source": [
    "import requests\n",
    "import pandas as pd\n",
    "url = \"https://fruityvice.com/api/fruit/all\"\n",
    "r = requests.get(url)"
   ]
  },
  {
   "cell_type": "code",
   "execution_count": null,
   "id": "04602279-49ed-4e0a-b7c5-b8c26a858a35",
   "metadata": {
    "tags": []
   },
   "outputs": [],
   "source": [
    "df = pd.json_normalize(r.json())\n",
    "df.columns"
   ]
  },
  {
   "cell_type": "code",
   "execution_count": null,
   "id": "a50a3596-f3ad-47b5-ae5a-874dd0b849dc",
   "metadata": {
    "tags": []
   },
   "outputs": [],
   "source": [
    "df.columns = ['Name', 'ID', 'Family', 'Order', 'Genus', 'Calories',\n",
    "       'Fat', 'Sugar', 'Carbohydrates',\n",
    "       'Protein']"
   ]
  },
  {
   "cell_type": "code",
   "execution_count": null,
   "id": "b8a44e83-b44e-44ff-82bf-15aa31c51683",
   "metadata": {
    "tags": []
   },
   "outputs": [],
   "source": [
    "df.head()"
   ]
  },
  {
   "cell_type": "code",
   "execution_count": null,
   "id": "000e7c02-80a0-40bf-9496-ceda7b16d5be",
   "metadata": {
    "tags": []
   },
   "outputs": [],
   "source": [
    "df.rename(columns={\"Name\":\"Fruit Name\"},inplace=True)\n",
    "df.head()"
   ]
  },
  {
   "cell_type": "code",
   "execution_count": null,
   "id": "ef760e07-f924-4b39-8a47-4d03de445ef9",
   "metadata": {
    "tags": []
   },
   "outputs": [],
   "source": [
    "# another way in which above can be done\n",
    "import json\n",
    "pd.json_normalize(json.loads(r.text))"
   ]
  },
  {
   "cell_type": "markdown",
   "id": "97977435-7a0e-4378-86e5-f803dc891607",
   "metadata": {
    "tags": []
   },
   "source": [
    "---\n",
    "---"
   ]
  },
  {
   "cell_type": "code",
   "execution_count": null,
   "id": "ffb6a1ea-6222-4d12-a059-2073f94a9202",
   "metadata": {},
   "outputs": [],
   "source": []
  }
 ],
 "metadata": {
  "kernelspec": {
   "display_name": "Python 3 (ipykernel)",
   "language": "python",
   "name": "python3"
  },
  "language_info": {
   "codemirror_mode": {
    "name": "ipython",
    "version": 3
   },
   "file_extension": ".py",
   "mimetype": "text/x-python",
   "name": "python",
   "nbconvert_exporter": "python",
   "pygments_lexer": "ipython3",
   "version": "3.10.10"
  }
 },
 "nbformat": 4,
 "nbformat_minor": 5
}
