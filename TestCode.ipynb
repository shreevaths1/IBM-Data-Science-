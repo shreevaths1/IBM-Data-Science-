{
 "cells": [
  {
   "cell_type": "code",
   "execution_count": null,
   "id": "65e4eec8-84cc-43b7-b1aa-fff10e58ecc1",
   "metadata": {},
   "outputs": [],
   "source": [
    "import pandas as pd # import library to read data into dataframe\n",
    "pd.set_option('display.max_columns', None)\n",
    "import numpy as np # import numpy library\n",
    "import re # import library for regular expression"
   ]
  },
  {
   "cell_type": "code",
   "execution_count": null,
   "id": "e0b73fba-c6c2-4a27-8d55-830d7a4311a9",
   "metadata": {},
   "outputs": [],
   "source": [
    "recipes = pd.read_csv(\"./dSMethodology/recipes.csv\")\n",
    "\n",
    "print(\"Data read into dataframe!\") # takes about 30 seconds"
   ]
  },
  {
   "cell_type": "code",
   "execution_count": null,
   "id": "f139d376-9132-4303-9821-3132c83d1f75",
   "metadata": {},
   "outputs": [],
   "source": [
    "# fix name of the column displaying the cuisine\n",
    "column_names = recipes.columns.values\n",
    "column_names[0] = \"cuisine\"\n",
    "recipes.columns = column_names\n",
    "\n",
    "# convert cuisine names to lower case\n",
    "recipes[\"cuisine\"] = recipes[\"cuisine\"].str.lower()\n",
    "\n",
    "# make the cuisine names consistent\n",
    "recipes.loc[recipes[\"cuisine\"] == \"austria\", \"cuisine\"] = \"austrian\"\n",
    "recipes.loc[recipes[\"cuisine\"] == \"belgium\", \"cuisine\"] = \"belgian\"\n",
    "recipes.loc[recipes[\"cuisine\"] == \"china\", \"cuisine\"] = \"chinese\"\n",
    "recipes.loc[recipes[\"cuisine\"] == \"canada\", \"cuisine\"] = \"canadian\"\n",
    "recipes.loc[recipes[\"cuisine\"] == \"netherlands\", \"cuisine\"] = \"dutch\"\n",
    "recipes.loc[recipes[\"cuisine\"] == \"france\", \"cuisine\"] = \"french\"\n",
    "recipes.loc[recipes[\"cuisine\"] == \"germany\", \"cuisine\"] = \"german\"\n",
    "recipes.loc[recipes[\"cuisine\"] == \"india\", \"cuisine\"] = \"indian\"\n",
    "recipes.loc[recipes[\"cuisine\"] == \"indonesia\", \"cuisine\"] = \"indonesian\"\n",
    "recipes.loc[recipes[\"cuisine\"] == \"iran\", \"cuisine\"] = \"iranian\"\n",
    "recipes.loc[recipes[\"cuisine\"] == \"italy\", \"cuisine\"] = \"italian\"\n",
    "recipes.loc[recipes[\"cuisine\"] == \"japan\", \"cuisine\"] = \"japanese\"\n",
    "recipes.loc[recipes[\"cuisine\"] == \"israel\", \"cuisine\"] = \"jewish\"\n",
    "recipes.loc[recipes[\"cuisine\"] == \"korea\", \"cuisine\"] = \"korean\"\n",
    "recipes.loc[recipes[\"cuisine\"] == \"lebanon\", \"cuisine\"] = \"lebanese\"\n",
    "recipes.loc[recipes[\"cuisine\"] == \"malaysia\", \"cuisine\"] = \"malaysian\"\n",
    "recipes.loc[recipes[\"cuisine\"] == \"mexico\", \"cuisine\"] = \"mexican\"\n",
    "recipes.loc[recipes[\"cuisine\"] == \"pakistan\", \"cuisine\"] = \"pakistani\"\n",
    "recipes.loc[recipes[\"cuisine\"] == \"philippines\", \"cuisine\"] = \"philippine\"\n",
    "recipes.loc[recipes[\"cuisine\"] == \"scandinavia\", \"cuisine\"] = \"scandinavian\"\n",
    "recipes.loc[recipes[\"cuisine\"] == \"spain\", \"cuisine\"] = \"spanish_portuguese\"\n",
    "recipes.loc[recipes[\"cuisine\"] == \"portugal\", \"cuisine\"] = \"spanish_portuguese\"\n",
    "recipes.loc[recipes[\"cuisine\"] == \"switzerland\", \"cuisine\"] = \"swiss\"\n",
    "recipes.loc[recipes[\"cuisine\"] == \"thailand\", \"cuisine\"] = \"thai\"\n",
    "recipes.loc[recipes[\"cuisine\"] == \"turkey\", \"cuisine\"] = \"turkish\"\n",
    "recipes.loc[recipes[\"cuisine\"] == \"vietnam\", \"cuisine\"] = \"vietnamese\"\n",
    "recipes.loc[recipes[\"cuisine\"] == \"uk-and-ireland\", \"cuisine\"] = \"uk-and-irish\"\n",
    "recipes.loc[recipes[\"cuisine\"] == \"irish\", \"cuisine\"] = \"uk-and-irish\"\n",
    "\n",
    "\n",
    "# remove data for cuisines with < 50 recipes:\n",
    "recipes_counts = recipes[\"cuisine\"].value_counts()\n",
    "cuisines_indices = recipes_counts > 50\n",
    "\n",
    "cuisines_to_keep = list(np.array(recipes_counts.index.values)[np.array(cuisines_indices)])\n",
    "recipes = recipes.loc[recipes[\"cuisine\"].isin(cuisines_to_keep)]\n",
    "\n",
    "# convert all Yes's to 1's and the No's to 0's\n",
    "recipes = recipes.replace(to_replace=\"Yes\", value=1)\n",
    "recipes = recipes.replace(to_replace=\"No\", value=0)"
   ]
  },
  {
   "cell_type": "code",
   "execution_count": null,
   "id": "7d223102-1b7b-4dc2-b768-a1c7bcf147fd",
   "metadata": {},
   "outputs": [],
   "source": [
    "bamboo = recipes[recipes.cuisine.isin([\"korean\", \"japanese\", \"chinese\", \"thai\", \"indian\"])]"
   ]
  },
  {
   "cell_type": "code",
   "execution_count": null,
   "id": "4825149d-f0ba-4493-8015-fa79830637f3",
   "metadata": {},
   "outputs": [],
   "source": [
    "bamboo_test = bamboo.groupby(\"cuisine\", group_keys=True).apply(lambda x: x.sample(30))"
   ]
  },
  {
   "cell_type": "code",
   "execution_count": null,
   "id": "daeee91d-b2ff-4865-99b9-562c2fe91b26",
   "metadata": {},
   "outputs": [],
   "source": [
    "bamboo_test"
   ]
  },
  {
   "cell_type": "code",
   "execution_count": null,
   "id": "7c28df20-cb8f-40cb-a3d0-ddb6327de03e",
   "metadata": {},
   "outputs": [],
   "source": [
    "recipes.shape"
   ]
  },
  {
   "cell_type": "markdown",
   "id": "1e06bbec-da2e-41e0-be45-7c183cf67784",
   "metadata": {},
   "source": [
    "---"
   ]
  },
  {
   "cell_type": "code",
   "execution_count": null,
   "id": "0003759a",
   "metadata": {},
   "outputs": [],
   "source": [
    "class Circle(object):\n",
    "    def __init__(self,radius=3,color='blue'):\n",
    "        self.radius=radius\n",
    "        self.color=color\n",
    "    \n",
    "    def add_radius(self,r):\n",
    "        self.radius = self.radius + r"
   ]
  },
  {
   "cell_type": "code",
   "execution_count": null,
   "id": "2b90fa3e",
   "metadata": {},
   "outputs": [],
   "source": [
    "red_circle = Circle(10,'red')"
   ]
  },
  {
   "cell_type": "code",
   "execution_count": null,
   "id": "78d91ad8",
   "metadata": {},
   "outputs": [],
   "source": [
    "red_circle"
   ]
  },
  {
   "cell_type": "code",
   "execution_count": null,
   "id": "77c4edb7",
   "metadata": {},
   "outputs": [],
   "source": [
    "print(red_circle.color)\n",
    "print(red_circle.radius)\n",
    "red_circle.add_radius(2)\n",
    "print(red_circle.radius)"
   ]
  },
  {
   "cell_type": "code",
   "execution_count": null,
   "id": "ab290a63",
   "metadata": {},
   "outputs": [],
   "source": [
    "import matplotlib.pyplot as plt"
   ]
  },
  {
   "cell_type": "code",
   "execution_count": null,
   "id": "27ce8fe4",
   "metadata": {},
   "outputs": [],
   "source": [
    "plt.gca().add_patch(plt.Circle((0,0),radius=red_circle.radius,fc=red_circle.color))\n",
    "plt.axis('scaled')\n",
    "plt.show()"
   ]
  },
  {
   "cell_type": "code",
   "execution_count": null,
   "id": "114c44e7",
   "metadata": {},
   "outputs": [],
   "source": [
    "class Rectangle(object):\n",
    "    def __init__(self,width=3,height=2,color='blue'):\n",
    "        self.width = width\n",
    "        self.height=height\n",
    "        self.color=color\n",
    "    \n",
    "    def add_width(self,w):\n",
    "        self.width = self.width + w\n",
    "    \n",
    "    def add_height(self,h):\n",
    "        self.height = self.height + h\n",
    "    \n",
    "    def draw_rect(self):\n",
    "        plt.gca().add_patch(plt.Rectangle((0,0),self.height,self.width,fc=self.color))\n",
    "        plt.axis('scaled')\n",
    "        plt.show()"
   ]
  },
  {
   "cell_type": "code",
   "execution_count": null,
   "id": "ed553031",
   "metadata": {},
   "outputs": [],
   "source": [
    "yellow_rectangle = Rectangle(4,8,'yellow')"
   ]
  },
  {
   "cell_type": "code",
   "execution_count": null,
   "id": "a89de87e",
   "metadata": {},
   "outputs": [],
   "source": [
    "yellow_rectangle.draw_rect()"
   ]
  },
  {
   "cell_type": "code",
   "execution_count": 2,
   "id": "a6890892",
   "metadata": {},
   "outputs": [],
   "source": [
    "class analysedText(object):\n",
    "    fmtText=''\n",
    "    def __init__(self,text):\n",
    "        self.fmtText = text.lower().replace('.','').replace('!','').replace(',','').replace('?','')\n",
    "    \n",
    "    def freqAll(self):\n",
    "        wordList = self.fmtText.split()\n",
    "        wordCount = {}\n",
    "        for w in wordList:\n",
    "            wordCount[w]=wordList.count(w)\n",
    "        return wordCount\n",
    "\n",
    "    def freqOf(self,word):\n",
    "        d = self.freqAll()\n",
    "        if word in list(d.keys()):\n",
    "            return d[word]\n",
    "        else:\n",
    "            print('No word found!')"
   ]
  },
  {
   "cell_type": "code",
   "execution_count": 3,
   "id": "1d1be0fa",
   "metadata": {},
   "outputs": [],
   "source": [
    "samplePassage = analysedText(\"Lorem Lorem ipsum dolor! diam amet, consetetur Lorem magna. sed diam nonumy eirmod tempor. diam et labore? et diam magna. et diam amet.\")"
   ]
  },
  {
   "cell_type": "code",
   "execution_count": 4,
   "id": "fad496c4",
   "metadata": {},
   "outputs": [
    {
     "data": {
      "text/plain": [
       "{'lorem': 3,\n",
       " 'ipsum': 1,\n",
       " 'dolor': 1,\n",
       " 'diam': 5,\n",
       " 'amet': 2,\n",
       " 'consetetur': 1,\n",
       " 'magna': 2,\n",
       " 'sed': 1,\n",
       " 'nonumy': 1,\n",
       " 'eirmod': 1,\n",
       " 'tempor': 1,\n",
       " 'et': 3,\n",
       " 'labore': 1}"
      ]
     },
     "execution_count": 4,
     "metadata": {},
     "output_type": "execute_result"
    }
   ],
   "source": [
    "samplePassage.freqAll()"
   ]
  },
  {
   "cell_type": "code",
   "execution_count": null,
   "id": "f22c4749",
   "metadata": {},
   "outputs": [],
   "source": [
    "samplePassage.fmtText"
   ]
  },
  {
   "cell_type": "code",
   "execution_count": null,
   "id": "9e9905e1",
   "metadata": {},
   "outputs": [],
   "source": [
    "samplePassage.freqOf('nonumy')"
   ]
  },
  {
   "cell_type": "code",
   "execution_count": null,
   "id": "930adf9b",
   "metadata": {},
   "outputs": [],
   "source": [
    "samplePassage.freqOf('nonumy1')"
   ]
  },
  {
   "cell_type": "markdown",
   "id": "913d1eff",
   "metadata": {},
   "source": [
    "---"
   ]
  },
  {
   "cell_type": "markdown",
   "id": "250b79fd",
   "metadata": {},
   "source": [
    "---"
   ]
  },
  {
   "cell_type": "code",
   "execution_count": null,
   "id": "c03c6501-4731-4963-80e8-e49b49f919b3",
   "metadata": {},
   "outputs": [],
   "source": []
  }
 ],
 "metadata": {
  "kernelspec": {
   "display_name": "Python 3 (ipykernel)",
   "language": "python",
   "name": "python3"
  },
  "language_info": {
   "codemirror_mode": {
    "name": "ipython",
    "version": 3
   },
   "file_extension": ".py",
   "mimetype": "text/x-python",
   "name": "python",
   "nbconvert_exporter": "python",
   "pygments_lexer": "ipython3",
   "version": "3.11.4"
  }
 },
 "nbformat": 4,
 "nbformat_minor": 5
}
