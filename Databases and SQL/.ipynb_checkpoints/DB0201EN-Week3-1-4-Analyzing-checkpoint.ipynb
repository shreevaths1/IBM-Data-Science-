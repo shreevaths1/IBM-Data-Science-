{
 "cells": [
  {
   "cell_type": "markdown",
   "metadata": {},
   "source": [
    "<p style=\"text-align:center\">\n",
    "    <a href=\"https://skills.network/?utm_medium=Exinfluencer&utm_source=Exinfluencer&utm_content=000026UJ&utm_term=10006555&utm_id=NA-SkillsNetwork-Channel-SkillsNetworkCoursesIBMDeveloperSkillsNetworkDB0201ENSkillsNetwork22-2022-01-01\" target=\"_blank\">\n",
    "    <img src=\"https://cf-courses-data.s3.us.cloud-object-storage.appdomain.cloud/assets/logos/SN_web_lightmode.png\" width=\"200\" alt=\"Skills Network Logo\"  />\n",
    "    </a>\n",
    "</p>\n",
    "\n",
    "\n",
    "# Analyzing a real world data-set with SQL and Python\n",
    "\n",
    "\n",
    "Estimated time needed: **15** minutes\n",
    "    \n",
    "\n",
    "## Objectives\n",
    "\n",
    "After completing this lab you will be able to:\n",
    "\n",
    "* Understand a dataset of selected socioeconomic indicators in Chicago\n",
    "* Learn how to store data in an Db2 database on IBM Cloud instance\n",
    "* Solve example problems to practice your SQL skills\n"
   ]
  },
  {
   "cell_type": "markdown",
   "metadata": {},
   "source": [
    "## Selected Socioeconomic Indicators in Chicago\n",
    "\n",
    "The city of Chicago released a dataset of socioeconomic data to the Chicago City Portal.\n",
    "This dataset contains a selection of six socioeconomic indicators of public health significance and a “hardship index,” for each Chicago community area, for the years 2008 – 2012.\n",
    "\n",
    "Scores on the hardship index can range from 1 to 100, with a higher index number representing a greater level of hardship.\n",
    "\n",
    "A detailed description of the dataset can be found on [the city of Chicago's website](https://data.cityofchicago.org/Health-Human-Services/Census-Data-Selected-socioeconomic-indicators-in-C/kn9c-c2s2?utm_medium=Exinfluencer&utm_source=Exinfluencer&utm_content=000026UJ&utm_term=10006555&utm_id=NA-SkillsNetwork-Channel-SkillsNetworkCoursesIBMDeveloperSkillsNetworkDB0201ENSkillsNetwork22-2022-01-01), but to summarize, the dataset has the following variables:\n",
    "\n",
    "* **Community Area Number** (`ca`): Used to uniquely identify each row of the dataset\n",
    "\n",
    "* **Community Area Name** (`community_area_name`): The name of the region in the city of Chicago \n",
    "\n",
    "* **Percent of Housing Crowded** (`percent_of_housing_crowded`): Percent of occupied housing units with more than one person per room\n",
    "\n",
    "* **Percent Households Below Poverty** (`percent_households_below_poverty`): Percent of households living below the federal poverty line\n",
    "\n",
    "* **Percent Aged 16+ Unemployed** (`percent_aged_16_unemployed`): Percent of persons over the age of 16 years that are unemployed\n",
    "\n",
    "* **Percent Aged 25+ without High School Diploma** (`percent_aged_25_without_high_school_diploma`): Percent of persons over the age of 25 years without a high school education\n",
    "\n",
    "* **Percent Aged Under** 18 or Over 64:Percent of population under 18 or over 64 years of age (`percent_aged_under_18_or_over_64`): (ie. dependents)\n",
    "\n",
    "* **Per Capita Income** (`per_capita_income_`): Community Area per capita income is estimated as the sum of tract-level aggragate incomes divided by the total population\n",
    "\n",
    "* **Hardship Index** (`hardship_index`): Score that incorporates each of the six selected socioeconomic indicators\n",
    "\n",
    "In this Lab, we'll take a look at the variables in the socioeconomic indicators dataset and do some basic analysis with Python.\n"
   ]
  },
  {
   "cell_type": "markdown",
   "metadata": {},
   "source": [
    "### Connect to the database\n",
    "Let us first load the SQL extension and establish a connection with the database\n",
    "\n",
    "The following required modules are pre-installed in the Skills Network Labs environment. However if you run this notebook commands in a different Jupyter environment (e.g. Watson Studio or Ananconda) you may need to install these libraries by removing the `#` sign before `!pip` in the code cell below.\n"
   ]
  },
  {
   "cell_type": "code",
   "execution_count": null,
   "metadata": {
    "tags": []
   },
   "outputs": [],
   "source": [
    "# These libraries are pre-installed in SN Labs. If running in another environment please uncomment lines below to install them:\n",
    "#!pip install --force-reinstall ibm_db==3.1.0 ibm_db_sa==0.3.3\n",
    "!pip install ibm_db==3.1.0 ibm_db_sa==0.3.3\n",
    "# Ensure we don't load_ext with sqlalchemy>=1.4 (incompadible)\n",
    "#!pip uninstall sqlalchemy==1.4 -y && pip install sqlalchemy==1.3.24\n",
    "!pip install sqlalchemy==1.3.24\n",
    "#!pip install ipython-sql"
   ]
  },
  {
   "cell_type": "code",
   "execution_count": 2,
   "metadata": {
    "tags": []
   },
   "outputs": [],
   "source": [
    "%load_ext sql"
   ]
  },
  {
   "cell_type": "code",
   "execution_count": 3,
   "metadata": {
    "tags": []
   },
   "outputs": [
    {
     "data": {
      "text/plain": [
       "'Connected: djg74088@BLUDB'"
      ]
     },
     "execution_count": 3,
     "metadata": {},
     "output_type": "execute_result"
    }
   ],
   "source": [
    "# Remember the connection string is of the format:\n",
    "# %sql ibm_db_sa://my-username:my-password@hostname:port/BLUDB?security=SSL\n",
    "# Enter the connection string for your Db2 on Cloud database instance below\n",
    "# i.e. copy after db2:// from the URI string in Service Credentials of your Db2 instance. Remove the double quotes at the end.\n",
    "%sql ibm_db_sa://djg74088:BWopbaIkKGfj6Kio@2f3279a5-73d1-4859-88f0-a6c3e6b4b907.c3n41cmd0nqnrk39u98g.databases.appdomain.cloud:30756/BLUDB?security=SSL"
   ]
  },
  {
   "cell_type": "markdown",
   "metadata": {},
   "source": [
    "### Store the dataset in a Table\n",
    "##### In many cases the dataset to be analyzed is available as a .CSV (comma separated values) file, perhaps on the internet. To analyze the data using SQL, it first needs to be stored in the database.\n",
    "\n",
    "##### We will first read the dataset source .CSV from the internet into pandas dataframe\n",
    "\n",
    "##### Then we need to create a table in our Db2 database to store the dataset. The PERSIST command in SQL \"magic\" simplifies the process of table creation and writing the data from a `pandas` dataframe into the table\n"
   ]
  },
  {
   "cell_type": "code",
   "execution_count": null,
   "metadata": {
    "tags": []
   },
   "outputs": [],
   "source": [
    "# THIS GENERATES ERROR ASKING FOR NEWER VERSION OF SQLALCHEMY\n",
    "import pandas\n",
    "chicago_socioeconomic_data = pandas.read_csv('ChicagoCensusData.csv')\n",
    "%sql PERSIST chicago_socioeconomic_data"
   ]
  },
  {
   "cell_type": "code",
   "execution_count": 7,
   "metadata": {
    "tags": []
   },
   "outputs": [
    {
     "data": {
      "text/html": [
       "<div>\n",
       "<style scoped>\n",
       "    .dataframe tbody tr th:only-of-type {\n",
       "        vertical-align: middle;\n",
       "    }\n",
       "\n",
       "    .dataframe tbody tr th {\n",
       "        vertical-align: top;\n",
       "    }\n",
       "\n",
       "    .dataframe thead th {\n",
       "        text-align: right;\n",
       "    }\n",
       "</style>\n",
       "<table border=\"1\" class=\"dataframe\">\n",
       "  <thead>\n",
       "    <tr style=\"text-align: right;\">\n",
       "      <th></th>\n",
       "      <th>COMMUNITY_AREA_NUMBER</th>\n",
       "      <th>COMMUNITY_AREA_NAME</th>\n",
       "      <th>PERCENT_OF_HOUSING_CROWDED</th>\n",
       "      <th>PERCENT_HOUSEHOLDS_BELOW_POVERTY</th>\n",
       "      <th>PERCENT_AGED_16__UNEMPLOYED</th>\n",
       "      <th>PERCENT_AGED_25__WITHOUT_HIGH_SCHOOL_DIPLOMA</th>\n",
       "      <th>PERCENT_AGED_UNDER_18_OR_OVER_64</th>\n",
       "      <th>PER_CAPITA_INCOME</th>\n",
       "      <th>HARDSHIP_INDEX</th>\n",
       "    </tr>\n",
       "  </thead>\n",
       "  <tbody>\n",
       "    <tr>\n",
       "      <th>0</th>\n",
       "      <td>1.0</td>\n",
       "      <td>Rogers Park</td>\n",
       "      <td>7.7</td>\n",
       "      <td>23.6</td>\n",
       "      <td>8.7</td>\n",
       "      <td>18.2</td>\n",
       "      <td>27.5</td>\n",
       "      <td>23939</td>\n",
       "      <td>39.0</td>\n",
       "    </tr>\n",
       "    <tr>\n",
       "      <th>1</th>\n",
       "      <td>2.0</td>\n",
       "      <td>West Ridge</td>\n",
       "      <td>7.8</td>\n",
       "      <td>17.2</td>\n",
       "      <td>8.8</td>\n",
       "      <td>20.8</td>\n",
       "      <td>38.5</td>\n",
       "      <td>23040</td>\n",
       "      <td>46.0</td>\n",
       "    </tr>\n",
       "    <tr>\n",
       "      <th>2</th>\n",
       "      <td>3.0</td>\n",
       "      <td>Uptown</td>\n",
       "      <td>3.8</td>\n",
       "      <td>24.0</td>\n",
       "      <td>8.9</td>\n",
       "      <td>11.8</td>\n",
       "      <td>22.2</td>\n",
       "      <td>35787</td>\n",
       "      <td>20.0</td>\n",
       "    </tr>\n",
       "    <tr>\n",
       "      <th>3</th>\n",
       "      <td>4.0</td>\n",
       "      <td>Lincoln Square</td>\n",
       "      <td>3.4</td>\n",
       "      <td>10.9</td>\n",
       "      <td>8.2</td>\n",
       "      <td>13.4</td>\n",
       "      <td>25.5</td>\n",
       "      <td>37524</td>\n",
       "      <td>17.0</td>\n",
       "    </tr>\n",
       "    <tr>\n",
       "      <th>4</th>\n",
       "      <td>5.0</td>\n",
       "      <td>North Center</td>\n",
       "      <td>0.3</td>\n",
       "      <td>7.5</td>\n",
       "      <td>5.2</td>\n",
       "      <td>4.5</td>\n",
       "      <td>26.2</td>\n",
       "      <td>57123</td>\n",
       "      <td>6.0</td>\n",
       "    </tr>\n",
       "  </tbody>\n",
       "</table>\n",
       "</div>"
      ],
      "text/plain": [
       "   COMMUNITY_AREA_NUMBER COMMUNITY_AREA_NAME  PERCENT_OF_HOUSING_CROWDED   \n",
       "0                    1.0         Rogers Park                         7.7  \\\n",
       "1                    2.0          West Ridge                         7.8   \n",
       "2                    3.0              Uptown                         3.8   \n",
       "3                    4.0      Lincoln Square                         3.4   \n",
       "4                    5.0        North Center                         0.3   \n",
       "\n",
       "   PERCENT_HOUSEHOLDS_BELOW_POVERTY  PERCENT_AGED_16__UNEMPLOYED   \n",
       "0                              23.6                          8.7  \\\n",
       "1                              17.2                          8.8   \n",
       "2                              24.0                          8.9   \n",
       "3                              10.9                          8.2   \n",
       "4                               7.5                          5.2   \n",
       "\n",
       "   PERCENT_AGED_25__WITHOUT_HIGH_SCHOOL_DIPLOMA   \n",
       "0                                          18.2  \\\n",
       "1                                          20.8   \n",
       "2                                          11.8   \n",
       "3                                          13.4   \n",
       "4                                           4.5   \n",
       "\n",
       "   PERCENT_AGED_UNDER_18_OR_OVER_64  PER_CAPITA_INCOME  HARDSHIP_INDEX  \n",
       "0                              27.5              23939            39.0  \n",
       "1                              38.5              23040            46.0  \n",
       "2                              22.2              35787            20.0  \n",
       "3                              25.5              37524            17.0  \n",
       "4                              26.2              57123             6.0  "
      ]
     },
     "execution_count": 7,
     "metadata": {},
     "output_type": "execute_result"
    }
   ],
   "source": [
    "chicago_socioeconomic_data.head()"
   ]
  },
  {
   "cell_type": "code",
   "execution_count": 6,
   "metadata": {
    "tags": []
   },
   "outputs": [
    {
     "name": "stdout",
     "output_type": "stream",
     "text": [
      " * ibm_db_sa://djg74088:***@2f3279a5-73d1-4859-88f0-a6c3e6b4b907.c3n41cmd0nqnrk39u98g.databases.appdomain.cloud:30756/BLUDB\n",
      "Done.\n"
     ]
    },
    {
     "data": {
      "text/html": [
       "<table>\n",
       "    <tr>\n",
       "        <th>tabschema</th>\n",
       "        <th>tabname</th>\n",
       "        <th>colname</th>\n",
       "        <th>colno</th>\n",
       "        <th>typeschema</th>\n",
       "        <th>typename</th>\n",
       "        <th>length</th>\n",
       "        <th>scale</th>\n",
       "        <th>typestringunits</th>\n",
       "        <th>stringunitslength</th>\n",
       "        <th>DEFAULT</th>\n",
       "        <th>NULLS</th>\n",
       "        <th>codepage</th>\n",
       "        <th>collationschema</th>\n",
       "        <th>collationname</th>\n",
       "        <th>logged</th>\n",
       "        <th>compact</th>\n",
       "        <th>colcard</th>\n",
       "        <th>high2key</th>\n",
       "        <th>low2key</th>\n",
       "        <th>avgcollen</th>\n",
       "        <th>keyseq</th>\n",
       "        <th>partkeyseq</th>\n",
       "        <th>nquantiles</th>\n",
       "        <th>nmostfreq</th>\n",
       "        <th>numnulls</th>\n",
       "        <th>target_typeschema</th>\n",
       "        <th>target_typename</th>\n",
       "        <th>scope_tabschema</th>\n",
       "        <th>scope_tabname</th>\n",
       "        <th>source_tabschema</th>\n",
       "        <th>source_tabname</th>\n",
       "        <th>dl_features</th>\n",
       "        <th>special_props</th>\n",
       "        <th>hidden</th>\n",
       "        <th>inline_length</th>\n",
       "        <th>pctinlined</th>\n",
       "        <th>IDENTITY</th>\n",
       "        <th>rowchangetimestamp</th>\n",
       "        <th>GENERATED</th>\n",
       "        <th>text</th>\n",
       "        <th>compress</th>\n",
       "        <th>avgdistinctperpage</th>\n",
       "        <th>pagevarianceratio</th>\n",
       "        <th>sub_count</th>\n",
       "        <th>sub_delim_length</th>\n",
       "        <th>avgcollenchar</th>\n",
       "        <th>implicitvalue</th>\n",
       "        <th>seclabelname</th>\n",
       "        <th>rowbegin</th>\n",
       "        <th>rowend</th>\n",
       "        <th>transactionstartid</th>\n",
       "        <th>pctencoded</th>\n",
       "        <th>avgencodedcollen</th>\n",
       "        <th>qualifier</th>\n",
       "        <th>func_path</th>\n",
       "        <th>randdistkey</th>\n",
       "        <th>remarks</th>\n",
       "    </tr>\n",
       "    <tr>\n",
       "        <td>DJG74088</td>\n",
       "        <td>CENSUS_DATA</td>\n",
       "        <td>COMMUNITY_AREA_NAME</td>\n",
       "        <td>1</td>\n",
       "        <td>SYSIBM  </td>\n",
       "        <td>VARCHAR</td>\n",
       "        <td>22</td>\n",
       "        <td>0</td>\n",
       "        <td>OCTETS</td>\n",
       "        <td>22</td>\n",
       "        <td>None</td>\n",
       "        <td>Y</td>\n",
       "        <td>1208</td>\n",
       "        <td>SYSIBM</td>\n",
       "        <td>IDENTITY</td>\n",
       "        <td> </td>\n",
       "        <td> </td>\n",
       "        <td>-1</td>\n",
       "        <td>\u0000\u0000\u0000\u0000\u0000\u0000\u0000\u0000\u0000\u0000\u0000\u0000\u0000\u0000\u0000\u0000\u0000\u0000\u0000\u0000\u0000\u0000</td>\n",
       "        <td>\u0000\u0000\u0000\u0000\u0000\u0000\u0000\u0000\u0000\u0000\u0000\u0000\u0000\u0000\u0000\u0000\u0000\u0000\u0000\u0000\u0000\u0000</td>\n",
       "        <td>-1</td>\n",
       "        <td>None</td>\n",
       "        <td>0</td>\n",
       "        <td>-1</td>\n",
       "        <td>-1</td>\n",
       "        <td>-1</td>\n",
       "        <td>None</td>\n",
       "        <td>None</td>\n",
       "        <td>None</td>\n",
       "        <td>None</td>\n",
       "        <td>None</td>\n",
       "        <td>None</td>\n",
       "        <td>None</td>\n",
       "        <td>None</td>\n",
       "        <td> </td>\n",
       "        <td>0</td>\n",
       "        <td>-1</td>\n",
       "        <td>N</td>\n",
       "        <td>N</td>\n",
       "        <td> </td>\n",
       "        <td>None</td>\n",
       "        <td>O</td>\n",
       "        <td>None</td>\n",
       "        <td>-1.0</td>\n",
       "        <td>-1</td>\n",
       "        <td>-1</td>\n",
       "        <td>-1</td>\n",
       "        <td>None</td>\n",
       "        <td>None</td>\n",
       "        <td>N</td>\n",
       "        <td>N</td>\n",
       "        <td>N</td>\n",
       "        <td>-1</td>\n",
       "        <td>-1.0</td>\n",
       "        <td>None</td>\n",
       "        <td>None</td>\n",
       "        <td>N</td>\n",
       "        <td>None</td>\n",
       "    </tr>\n",
       "    <tr>\n",
       "        <td>DJG74088</td>\n",
       "        <td>CENSUS_DATA</td>\n",
       "        <td>COMMUNITY_AREA_NUMBER</td>\n",
       "        <td>0</td>\n",
       "        <td>SYSIBM  </td>\n",
       "        <td>SMALLINT</td>\n",
       "        <td>2</td>\n",
       "        <td>0</td>\n",
       "        <td>None</td>\n",
       "        <td>None</td>\n",
       "        <td>None</td>\n",
       "        <td>Y</td>\n",
       "        <td>0</td>\n",
       "        <td>None</td>\n",
       "        <td>None</td>\n",
       "        <td> </td>\n",
       "        <td> </td>\n",
       "        <td>-1</td>\n",
       "        <td>\u0000\u0000</td>\n",
       "        <td>\u0000\u0000</td>\n",
       "        <td>-1</td>\n",
       "        <td>None</td>\n",
       "        <td>0</td>\n",
       "        <td>-1</td>\n",
       "        <td>-1</td>\n",
       "        <td>-1</td>\n",
       "        <td>None</td>\n",
       "        <td>None</td>\n",
       "        <td>None</td>\n",
       "        <td>None</td>\n",
       "        <td>None</td>\n",
       "        <td>None</td>\n",
       "        <td>None</td>\n",
       "        <td>None</td>\n",
       "        <td> </td>\n",
       "        <td>0</td>\n",
       "        <td>-1</td>\n",
       "        <td>N</td>\n",
       "        <td>N</td>\n",
       "        <td> </td>\n",
       "        <td>None</td>\n",
       "        <td>O</td>\n",
       "        <td>None</td>\n",
       "        <td>-1.0</td>\n",
       "        <td>-1</td>\n",
       "        <td>-1</td>\n",
       "        <td>-1</td>\n",
       "        <td>None</td>\n",
       "        <td>None</td>\n",
       "        <td>N</td>\n",
       "        <td>N</td>\n",
       "        <td>N</td>\n",
       "        <td>-1</td>\n",
       "        <td>-1.0</td>\n",
       "        <td>None</td>\n",
       "        <td>None</td>\n",
       "        <td>N</td>\n",
       "        <td>None</td>\n",
       "    </tr>\n",
       "    <tr>\n",
       "        <td>DJG74088</td>\n",
       "        <td>CENSUS_DATA</td>\n",
       "        <td>HARDSHIP_INDEX</td>\n",
       "        <td>8</td>\n",
       "        <td>SYSIBM  </td>\n",
       "        <td>SMALLINT</td>\n",
       "        <td>2</td>\n",
       "        <td>0</td>\n",
       "        <td>None</td>\n",
       "        <td>None</td>\n",
       "        <td>None</td>\n",
       "        <td>Y</td>\n",
       "        <td>0</td>\n",
       "        <td>None</td>\n",
       "        <td>None</td>\n",
       "        <td> </td>\n",
       "        <td> </td>\n",
       "        <td>-1</td>\n",
       "        <td>\u0000\u0000</td>\n",
       "        <td>\u0000\u0000</td>\n",
       "        <td>-1</td>\n",
       "        <td>None</td>\n",
       "        <td>0</td>\n",
       "        <td>-1</td>\n",
       "        <td>-1</td>\n",
       "        <td>-1</td>\n",
       "        <td>None</td>\n",
       "        <td>None</td>\n",
       "        <td>None</td>\n",
       "        <td>None</td>\n",
       "        <td>None</td>\n",
       "        <td>None</td>\n",
       "        <td>None</td>\n",
       "        <td>None</td>\n",
       "        <td> </td>\n",
       "        <td>0</td>\n",
       "        <td>-1</td>\n",
       "        <td>N</td>\n",
       "        <td>N</td>\n",
       "        <td> </td>\n",
       "        <td>None</td>\n",
       "        <td>O</td>\n",
       "        <td>None</td>\n",
       "        <td>-1.0</td>\n",
       "        <td>-1</td>\n",
       "        <td>-1</td>\n",
       "        <td>-1</td>\n",
       "        <td>None</td>\n",
       "        <td>None</td>\n",
       "        <td>N</td>\n",
       "        <td>N</td>\n",
       "        <td>N</td>\n",
       "        <td>-1</td>\n",
       "        <td>-1.0</td>\n",
       "        <td>None</td>\n",
       "        <td>None</td>\n",
       "        <td>N</td>\n",
       "        <td>None</td>\n",
       "    </tr>\n",
       "    <tr>\n",
       "        <td>DJG74088</td>\n",
       "        <td>CENSUS_DATA</td>\n",
       "        <td>PERCENT_AGED_16__UNEMPLOYED</td>\n",
       "        <td>4</td>\n",
       "        <td>SYSIBM  </td>\n",
       "        <td>DECIMAL</td>\n",
       "        <td>4</td>\n",
       "        <td>1</td>\n",
       "        <td>None</td>\n",
       "        <td>None</td>\n",
       "        <td>None</td>\n",
       "        <td>Y</td>\n",
       "        <td>0</td>\n",
       "        <td>None</td>\n",
       "        <td>None</td>\n",
       "        <td> </td>\n",
       "        <td> </td>\n",
       "        <td>-1</td>\n",
       "        <td>\u0000\u0000\u0000</td>\n",
       "        <td>\u0000\u0000\u0000</td>\n",
       "        <td>-1</td>\n",
       "        <td>None</td>\n",
       "        <td>0</td>\n",
       "        <td>-1</td>\n",
       "        <td>-1</td>\n",
       "        <td>-1</td>\n",
       "        <td>None</td>\n",
       "        <td>None</td>\n",
       "        <td>None</td>\n",
       "        <td>None</td>\n",
       "        <td>None</td>\n",
       "        <td>None</td>\n",
       "        <td>None</td>\n",
       "        <td>None</td>\n",
       "        <td> </td>\n",
       "        <td>0</td>\n",
       "        <td>-1</td>\n",
       "        <td>N</td>\n",
       "        <td>N</td>\n",
       "        <td> </td>\n",
       "        <td>None</td>\n",
       "        <td>O</td>\n",
       "        <td>None</td>\n",
       "        <td>-1.0</td>\n",
       "        <td>-1</td>\n",
       "        <td>-1</td>\n",
       "        <td>-1</td>\n",
       "        <td>None</td>\n",
       "        <td>None</td>\n",
       "        <td>N</td>\n",
       "        <td>N</td>\n",
       "        <td>N</td>\n",
       "        <td>-1</td>\n",
       "        <td>-1.0</td>\n",
       "        <td>None</td>\n",
       "        <td>None</td>\n",
       "        <td>N</td>\n",
       "        <td>None</td>\n",
       "    </tr>\n",
       "    <tr>\n",
       "        <td>DJG74088</td>\n",
       "        <td>CENSUS_DATA</td>\n",
       "        <td>PERCENT_AGED_25__WITHOUT_HIGH_SCHOOL_DIPLOMA</td>\n",
       "        <td>5</td>\n",
       "        <td>SYSIBM  </td>\n",
       "        <td>DECIMAL</td>\n",
       "        <td>4</td>\n",
       "        <td>1</td>\n",
       "        <td>None</td>\n",
       "        <td>None</td>\n",
       "        <td>None</td>\n",
       "        <td>Y</td>\n",
       "        <td>0</td>\n",
       "        <td>None</td>\n",
       "        <td>None</td>\n",
       "        <td> </td>\n",
       "        <td> </td>\n",
       "        <td>-1</td>\n",
       "        <td>\u0000\u0000\u0000</td>\n",
       "        <td>\u0000\u0000\u0000</td>\n",
       "        <td>-1</td>\n",
       "        <td>None</td>\n",
       "        <td>0</td>\n",
       "        <td>-1</td>\n",
       "        <td>-1</td>\n",
       "        <td>-1</td>\n",
       "        <td>None</td>\n",
       "        <td>None</td>\n",
       "        <td>None</td>\n",
       "        <td>None</td>\n",
       "        <td>None</td>\n",
       "        <td>None</td>\n",
       "        <td>None</td>\n",
       "        <td>None</td>\n",
       "        <td> </td>\n",
       "        <td>0</td>\n",
       "        <td>-1</td>\n",
       "        <td>N</td>\n",
       "        <td>N</td>\n",
       "        <td> </td>\n",
       "        <td>None</td>\n",
       "        <td>O</td>\n",
       "        <td>None</td>\n",
       "        <td>-1.0</td>\n",
       "        <td>-1</td>\n",
       "        <td>-1</td>\n",
       "        <td>-1</td>\n",
       "        <td>None</td>\n",
       "        <td>None</td>\n",
       "        <td>N</td>\n",
       "        <td>N</td>\n",
       "        <td>N</td>\n",
       "        <td>-1</td>\n",
       "        <td>-1.0</td>\n",
       "        <td>None</td>\n",
       "        <td>None</td>\n",
       "        <td>N</td>\n",
       "        <td>None</td>\n",
       "    </tr>\n",
       "    <tr>\n",
       "        <td>DJG74088</td>\n",
       "        <td>CENSUS_DATA</td>\n",
       "        <td>PERCENT_AGED_UNDER_18_OR_OVER_64</td>\n",
       "        <td>6</td>\n",
       "        <td>SYSIBM  </td>\n",
       "        <td>DECIMAL</td>\n",
       "        <td>4</td>\n",
       "        <td>1</td>\n",
       "        <td>None</td>\n",
       "        <td>None</td>\n",
       "        <td>None</td>\n",
       "        <td>Y</td>\n",
       "        <td>0</td>\n",
       "        <td>None</td>\n",
       "        <td>None</td>\n",
       "        <td> </td>\n",
       "        <td> </td>\n",
       "        <td>-1</td>\n",
       "        <td>\u0000\u0000\u0000</td>\n",
       "        <td>\u0000\u0000\u0000</td>\n",
       "        <td>-1</td>\n",
       "        <td>None</td>\n",
       "        <td>0</td>\n",
       "        <td>-1</td>\n",
       "        <td>-1</td>\n",
       "        <td>-1</td>\n",
       "        <td>None</td>\n",
       "        <td>None</td>\n",
       "        <td>None</td>\n",
       "        <td>None</td>\n",
       "        <td>None</td>\n",
       "        <td>None</td>\n",
       "        <td>None</td>\n",
       "        <td>None</td>\n",
       "        <td> </td>\n",
       "        <td>0</td>\n",
       "        <td>-1</td>\n",
       "        <td>N</td>\n",
       "        <td>N</td>\n",
       "        <td> </td>\n",
       "        <td>None</td>\n",
       "        <td>O</td>\n",
       "        <td>None</td>\n",
       "        <td>-1.0</td>\n",
       "        <td>-1</td>\n",
       "        <td>-1</td>\n",
       "        <td>-1</td>\n",
       "        <td>None</td>\n",
       "        <td>None</td>\n",
       "        <td>N</td>\n",
       "        <td>N</td>\n",
       "        <td>N</td>\n",
       "        <td>-1</td>\n",
       "        <td>-1.0</td>\n",
       "        <td>None</td>\n",
       "        <td>None</td>\n",
       "        <td>N</td>\n",
       "        <td>None</td>\n",
       "    </tr>\n",
       "    <tr>\n",
       "        <td>DJG74088</td>\n",
       "        <td>CENSUS_DATA</td>\n",
       "        <td>PERCENT_HOUSEHOLDS_BELOW_POVERTY</td>\n",
       "        <td>3</td>\n",
       "        <td>SYSIBM  </td>\n",
       "        <td>DECIMAL</td>\n",
       "        <td>4</td>\n",
       "        <td>1</td>\n",
       "        <td>None</td>\n",
       "        <td>None</td>\n",
       "        <td>None</td>\n",
       "        <td>Y</td>\n",
       "        <td>0</td>\n",
       "        <td>None</td>\n",
       "        <td>None</td>\n",
       "        <td> </td>\n",
       "        <td> </td>\n",
       "        <td>-1</td>\n",
       "        <td>\u0000\u0000\u0000</td>\n",
       "        <td>\u0000\u0000\u0000</td>\n",
       "        <td>-1</td>\n",
       "        <td>None</td>\n",
       "        <td>0</td>\n",
       "        <td>-1</td>\n",
       "        <td>-1</td>\n",
       "        <td>-1</td>\n",
       "        <td>None</td>\n",
       "        <td>None</td>\n",
       "        <td>None</td>\n",
       "        <td>None</td>\n",
       "        <td>None</td>\n",
       "        <td>None</td>\n",
       "        <td>None</td>\n",
       "        <td>None</td>\n",
       "        <td> </td>\n",
       "        <td>0</td>\n",
       "        <td>-1</td>\n",
       "        <td>N</td>\n",
       "        <td>N</td>\n",
       "        <td> </td>\n",
       "        <td>None</td>\n",
       "        <td>O</td>\n",
       "        <td>None</td>\n",
       "        <td>-1.0</td>\n",
       "        <td>-1</td>\n",
       "        <td>-1</td>\n",
       "        <td>-1</td>\n",
       "        <td>None</td>\n",
       "        <td>None</td>\n",
       "        <td>N</td>\n",
       "        <td>N</td>\n",
       "        <td>N</td>\n",
       "        <td>-1</td>\n",
       "        <td>-1.0</td>\n",
       "        <td>None</td>\n",
       "        <td>None</td>\n",
       "        <td>N</td>\n",
       "        <td>None</td>\n",
       "    </tr>\n",
       "    <tr>\n",
       "        <td>DJG74088</td>\n",
       "        <td>CENSUS_DATA</td>\n",
       "        <td>PERCENT_OF_HOUSING_CROWDED</td>\n",
       "        <td>2</td>\n",
       "        <td>SYSIBM  </td>\n",
       "        <td>DECIMAL</td>\n",
       "        <td>4</td>\n",
       "        <td>1</td>\n",
       "        <td>None</td>\n",
       "        <td>None</td>\n",
       "        <td>None</td>\n",
       "        <td>Y</td>\n",
       "        <td>0</td>\n",
       "        <td>None</td>\n",
       "        <td>None</td>\n",
       "        <td> </td>\n",
       "        <td> </td>\n",
       "        <td>-1</td>\n",
       "        <td>\u0000\u0000\u0000</td>\n",
       "        <td>\u0000\u0000\u0000</td>\n",
       "        <td>-1</td>\n",
       "        <td>None</td>\n",
       "        <td>0</td>\n",
       "        <td>-1</td>\n",
       "        <td>-1</td>\n",
       "        <td>-1</td>\n",
       "        <td>None</td>\n",
       "        <td>None</td>\n",
       "        <td>None</td>\n",
       "        <td>None</td>\n",
       "        <td>None</td>\n",
       "        <td>None</td>\n",
       "        <td>None</td>\n",
       "        <td>None</td>\n",
       "        <td> </td>\n",
       "        <td>0</td>\n",
       "        <td>-1</td>\n",
       "        <td>N</td>\n",
       "        <td>N</td>\n",
       "        <td> </td>\n",
       "        <td>None</td>\n",
       "        <td>O</td>\n",
       "        <td>None</td>\n",
       "        <td>-1.0</td>\n",
       "        <td>-1</td>\n",
       "        <td>-1</td>\n",
       "        <td>-1</td>\n",
       "        <td>None</td>\n",
       "        <td>None</td>\n",
       "        <td>N</td>\n",
       "        <td>N</td>\n",
       "        <td>N</td>\n",
       "        <td>-1</td>\n",
       "        <td>-1.0</td>\n",
       "        <td>None</td>\n",
       "        <td>None</td>\n",
       "        <td>N</td>\n",
       "        <td>None</td>\n",
       "    </tr>\n",
       "    <tr>\n",
       "        <td>DJG74088</td>\n",
       "        <td>CENSUS_DATA</td>\n",
       "        <td>PER_CAPITA_INCOME</td>\n",
       "        <td>7</td>\n",
       "        <td>SYSIBM  </td>\n",
       "        <td>INTEGER</td>\n",
       "        <td>4</td>\n",
       "        <td>0</td>\n",
       "        <td>None</td>\n",
       "        <td>None</td>\n",
       "        <td>None</td>\n",
       "        <td>Y</td>\n",
       "        <td>0</td>\n",
       "        <td>None</td>\n",
       "        <td>None</td>\n",
       "        <td> </td>\n",
       "        <td> </td>\n",
       "        <td>-1</td>\n",
       "        <td>\u0000\u0000\u0000\u0000</td>\n",
       "        <td>\u0000\u0000\u0000\u0000</td>\n",
       "        <td>-1</td>\n",
       "        <td>None</td>\n",
       "        <td>0</td>\n",
       "        <td>-1</td>\n",
       "        <td>-1</td>\n",
       "        <td>-1</td>\n",
       "        <td>None</td>\n",
       "        <td>None</td>\n",
       "        <td>None</td>\n",
       "        <td>None</td>\n",
       "        <td>None</td>\n",
       "        <td>None</td>\n",
       "        <td>None</td>\n",
       "        <td>None</td>\n",
       "        <td> </td>\n",
       "        <td>0</td>\n",
       "        <td>-1</td>\n",
       "        <td>N</td>\n",
       "        <td>N</td>\n",
       "        <td> </td>\n",
       "        <td>None</td>\n",
       "        <td>O</td>\n",
       "        <td>None</td>\n",
       "        <td>-1.0</td>\n",
       "        <td>-1</td>\n",
       "        <td>-1</td>\n",
       "        <td>-1</td>\n",
       "        <td>None</td>\n",
       "        <td>None</td>\n",
       "        <td>N</td>\n",
       "        <td>N</td>\n",
       "        <td>N</td>\n",
       "        <td>-1</td>\n",
       "        <td>-1.0</td>\n",
       "        <td>None</td>\n",
       "        <td>None</td>\n",
       "        <td>N</td>\n",
       "        <td>None</td>\n",
       "    </tr>\n",
       "</table>"
      ],
      "text/plain": [
       "[('DJG74088', 'CENSUS_DATA', 'COMMUNITY_AREA_NAME', 1, 'SYSIBM  ', 'VARCHAR', 22, 0, 'OCTETS', 22, None, 'Y', 1208, 'SYSIBM', 'IDENTITY', ' ', ' ', -1, '\\x00\\x00\\x00\\x00\\x00\\x00\\x00\\x00\\x00\\x00\\x00\\x00\\x00\\x00\\x00\\x00\\x00\\x00\\x00\\x00\\x00\\x00', '\\x00\\x00\\x00\\x00\\x00\\x00\\x00\\x00\\x00\\x00\\x00\\x00\\x00\\x00\\x00\\x00\\x00\\x00\\x00\\x00\\x00\\x00', -1, None, 0, -1, -1, -1, None, None, None, None, None, None, None, None, ' ', 0, -1, 'N', 'N', ' ', None, 'O', None, -1.0, -1, -1, -1, None, None, 'N', 'N', 'N', -1, -1.0, None, None, 'N', None),\n",
       " ('DJG74088', 'CENSUS_DATA', 'COMMUNITY_AREA_NUMBER', 0, 'SYSIBM  ', 'SMALLINT', 2, 0, None, None, None, 'Y', 0, None, None, ' ', ' ', -1, '\\x00\\x00', '\\x00\\x00', -1, None, 0, -1, -1, -1, None, None, None, None, None, None, None, None, ' ', 0, -1, 'N', 'N', ' ', None, 'O', None, -1.0, -1, -1, -1, None, None, 'N', 'N', 'N', -1, -1.0, None, None, 'N', None),\n",
       " ('DJG74088', 'CENSUS_DATA', 'HARDSHIP_INDEX', 8, 'SYSIBM  ', 'SMALLINT', 2, 0, None, None, None, 'Y', 0, None, None, ' ', ' ', -1, '\\x00\\x00', '\\x00\\x00', -1, None, 0, -1, -1, -1, None, None, None, None, None, None, None, None, ' ', 0, -1, 'N', 'N', ' ', None, 'O', None, -1.0, -1, -1, -1, None, None, 'N', 'N', 'N', -1, -1.0, None, None, 'N', None),\n",
       " ('DJG74088', 'CENSUS_DATA', 'PERCENT_AGED_16__UNEMPLOYED', 4, 'SYSIBM  ', 'DECIMAL', 4, 1, None, None, None, 'Y', 0, None, None, ' ', ' ', -1, '\\x00\\x00\\x00', '\\x00\\x00\\x00', -1, None, 0, -1, -1, -1, None, None, None, None, None, None, None, None, ' ', 0, -1, 'N', 'N', ' ', None, 'O', None, -1.0, -1, -1, -1, None, None, 'N', 'N', 'N', -1, -1.0, None, None, 'N', None),\n",
       " ('DJG74088', 'CENSUS_DATA', 'PERCENT_AGED_25__WITHOUT_HIGH_SCHOOL_DIPLOMA', 5, 'SYSIBM  ', 'DECIMAL', 4, 1, None, None, None, 'Y', 0, None, None, ' ', ' ', -1, '\\x00\\x00\\x00', '\\x00\\x00\\x00', -1, None, 0, -1, -1, -1, None, None, None, None, None, None, None, None, ' ', 0, -1, 'N', 'N', ' ', None, 'O', None, -1.0, -1, -1, -1, None, None, 'N', 'N', 'N', -1, -1.0, None, None, 'N', None),\n",
       " ('DJG74088', 'CENSUS_DATA', 'PERCENT_AGED_UNDER_18_OR_OVER_64', 6, 'SYSIBM  ', 'DECIMAL', 4, 1, None, None, None, 'Y', 0, None, None, ' ', ' ', -1, '\\x00\\x00\\x00', '\\x00\\x00\\x00', -1, None, 0, -1, -1, -1, None, None, None, None, None, None, None, None, ' ', 0, -1, 'N', 'N', ' ', None, 'O', None, -1.0, -1, -1, -1, None, None, 'N', 'N', 'N', -1, -1.0, None, None, 'N', None),\n",
       " ('DJG74088', 'CENSUS_DATA', 'PERCENT_HOUSEHOLDS_BELOW_POVERTY', 3, 'SYSIBM  ', 'DECIMAL', 4, 1, None, None, None, 'Y', 0, None, None, ' ', ' ', -1, '\\x00\\x00\\x00', '\\x00\\x00\\x00', -1, None, 0, -1, -1, -1, None, None, None, None, None, None, None, None, ' ', 0, -1, 'N', 'N', ' ', None, 'O', None, -1.0, -1, -1, -1, None, None, 'N', 'N', 'N', -1, -1.0, None, None, 'N', None),\n",
       " ('DJG74088', 'CENSUS_DATA', 'PERCENT_OF_HOUSING_CROWDED', 2, 'SYSIBM  ', 'DECIMAL', 4, 1, None, None, None, 'Y', 0, None, None, ' ', ' ', -1, '\\x00\\x00\\x00', '\\x00\\x00\\x00', -1, None, 0, -1, -1, -1, None, None, None, None, None, None, None, None, ' ', 0, -1, 'N', 'N', ' ', None, 'O', None, -1.0, -1, -1, -1, None, None, 'N', 'N', 'N', -1, -1.0, None, None, 'N', None),\n",
       " ('DJG74088', 'CENSUS_DATA', 'PER_CAPITA_INCOME', 7, 'SYSIBM  ', 'INTEGER', 4, 0, None, None, None, 'Y', 0, None, None, ' ', ' ', -1, '\\x00\\x00\\x00\\x00', '\\x00\\x00\\x00\\x00', -1, None, 0, -1, -1, -1, None, None, None, None, None, None, None, None, ' ', 0, -1, 'N', 'N', ' ', None, 'O', None, -1.0, -1, -1, -1, None, None, 'N', 'N', 'N', -1, -1.0, None, None, 'N', None)]"
      ]
     },
     "execution_count": 6,
     "metadata": {},
     "output_type": "execute_result"
    }
   ],
   "source": [
    "%sql SELECT * FROM SYSCAT.COLUMNS WHERE \"TABSCHEMA\"='DJG74088' AND \"TABNAME\"='CENSUS_DATA'"
   ]
  },
  {
   "cell_type": "markdown",
   "metadata": {
    "tags": []
   },
   "source": [
    "##### You can verify that the table creation was successful by making a basic query like:\n"
   ]
  },
  {
   "cell_type": "markdown",
   "metadata": {},
   "source": [
    "## Problems\n",
    "\n",
    "### Problem 1\n",
    "\n",
    "##### How many rows are in the dataset?\n"
   ]
  },
  {
   "cell_type": "code",
   "execution_count": 8,
   "metadata": {},
   "outputs": [
    {
     "name": "stdout",
     "output_type": "stream",
     "text": [
      " * ibm_db_sa://djg74088:***@2f3279a5-73d1-4859-88f0-a6c3e6b4b907.c3n41cmd0nqnrk39u98g.databases.appdomain.cloud:30756/BLUDB\n",
      "Done.\n"
     ]
    },
    {
     "data": {
      "text/html": [
       "<table>\n",
       "    <tr>\n",
       "        <th>1</th>\n",
       "    </tr>\n",
       "    <tr>\n",
       "        <td>78</td>\n",
       "    </tr>\n",
       "</table>"
      ],
      "text/plain": [
       "[(78,)]"
      ]
     },
     "execution_count": 8,
     "metadata": {},
     "output_type": "execute_result"
    }
   ],
   "source": [
    "%sql SELECT COUNT(*) FROM CENSUS_DATA;"
   ]
  },
  {
   "cell_type": "markdown",
   "metadata": {},
   "source": [
    "<details><summary>Click here for the solution</summary>\n",
    "\n",
    "```python\n",
    "%sql SELECT COUNT(*) FROM chicago_socioeconomic_data;\n",
    "\n",
    "Correct answer: 78\n",
    "```\n",
    "\n",
    "</details>\n"
   ]
  },
  {
   "cell_type": "markdown",
   "metadata": {},
   "source": [
    "### Problem 2\n",
    "\n",
    "##### How many community areas in Chicago have a hardship index greater than 50.0?\n"
   ]
  },
  {
   "cell_type": "code",
   "execution_count": 9,
   "metadata": {
    "tags": []
   },
   "outputs": [
    {
     "name": "stdout",
     "output_type": "stream",
     "text": [
      " * ibm_db_sa://djg74088:***@2f3279a5-73d1-4859-88f0-a6c3e6b4b907.c3n41cmd0nqnrk39u98g.databases.appdomain.cloud:30756/BLUDB\n",
      "Done.\n"
     ]
    },
    {
     "data": {
      "text/html": [
       "<table>\n",
       "    <tr>\n",
       "        <th>1</th>\n",
       "    </tr>\n",
       "    <tr>\n",
       "        <td>38</td>\n",
       "    </tr>\n",
       "</table>"
      ],
      "text/plain": [
       "[(38,)]"
      ]
     },
     "execution_count": 9,
     "metadata": {},
     "output_type": "execute_result"
    }
   ],
   "source": [
    "%sql SELECT COUNT(\"COMMUNITY_AREA_NUMBER\") FROM CENSUS_DATA WHERE \"HARDSHIP_INDEX\" > 50.0"
   ]
  },
  {
   "cell_type": "markdown",
   "metadata": {},
   "source": [
    "<details><summary>Click here for the solution</summary>\n",
    "\n",
    "```python\n",
    "%sql SELECT COUNT(*) FROM chicago_socioeconomic_data WHERE hardship_index > 50.0;\n",
    "\n",
    "Correct answer: 38\n",
    "```\n",
    "\n",
    "</details>\n"
   ]
  },
  {
   "cell_type": "markdown",
   "metadata": {},
   "source": [
    "### Problem 3\n",
    "\n",
    "##### What is the maximum value of hardship index in this dataset?\n"
   ]
  },
  {
   "cell_type": "code",
   "execution_count": 10,
   "metadata": {
    "tags": []
   },
   "outputs": [
    {
     "name": "stdout",
     "output_type": "stream",
     "text": [
      " * ibm_db_sa://djg74088:***@2f3279a5-73d1-4859-88f0-a6c3e6b4b907.c3n41cmd0nqnrk39u98g.databases.appdomain.cloud:30756/BLUDB\n",
      "Done.\n"
     ]
    },
    {
     "data": {
      "text/html": [
       "<table>\n",
       "    <tr>\n",
       "        <th>1</th>\n",
       "    </tr>\n",
       "    <tr>\n",
       "        <td>98</td>\n",
       "    </tr>\n",
       "</table>"
      ],
      "text/plain": [
       "[(98,)]"
      ]
     },
     "execution_count": 10,
     "metadata": {},
     "output_type": "execute_result"
    }
   ],
   "source": [
    "%sql SELECT MAX(\"HARDSHIP_INDEX\") FROM CENSUS_DATA;"
   ]
  },
  {
   "cell_type": "markdown",
   "metadata": {},
   "source": [
    "<details><summary>Click here for the solution</summary>\n",
    "\n",
    "```python\n",
    "%sql SELECT MAX(hardship_index) FROM chicago_socioeconomic_data;\n",
    "\n",
    "Correct answer: 98.0\n",
    "```\n",
    "\n",
    "</details>\n",
    "\n"
   ]
  },
  {
   "cell_type": "markdown",
   "metadata": {},
   "source": [
    "### Problem 4\n",
    "\n",
    "##### Which community area which has the highest hardship index?\n"
   ]
  },
  {
   "cell_type": "code",
   "execution_count": 11,
   "metadata": {
    "tags": []
   },
   "outputs": [
    {
     "name": "stdout",
     "output_type": "stream",
     "text": [
      " * ibm_db_sa://djg74088:***@2f3279a5-73d1-4859-88f0-a6c3e6b4b907.c3n41cmd0nqnrk39u98g.databases.appdomain.cloud:30756/BLUDB\n",
      "Done.\n"
     ]
    },
    {
     "data": {
      "text/html": [
       "<table>\n",
       "    <tr>\n",
       "        <th>community_area_name</th>\n",
       "    </tr>\n",
       "    <tr>\n",
       "        <td>Riverdale</td>\n",
       "    </tr>\n",
       "</table>"
      ],
      "text/plain": [
       "[('Riverdale',)]"
      ]
     },
     "execution_count": 11,
     "metadata": {},
     "output_type": "execute_result"
    }
   ],
   "source": [
    "%sql SELECT \"COMMUNITY_AREA_NAME\" FROM CENSUS_DATA \\\n",
    "WHERE \"HARDSHIP_INDEX\" = (SELECT MAX(\"HARDSHIP_INDEX\") FROM CENSUS_DATA);"
   ]
  },
  {
   "cell_type": "markdown",
   "metadata": {},
   "source": [
    "<details><summary>Click here for the solution</summary>\n",
    "\n",
    "```python\n",
    "#We can use the result of the last query to as an input to this query:\n",
    "%sql SELECT community_area_name FROM chicago_socioeconomic_data where hardship_index=98.0\n",
    "\n",
    "#or another option:\n",
    "%sql SELECT community_area_name FROM chicago_socioeconomic_data ORDER BY hardship_index DESC NULLS LAST FETCH FIRST ROW ONLY;\n",
    "\n",
    "#or you can use a sub-query to determine the max hardship index:\n",
    "%sql select community_area_name from chicago_socioeconomic_data where hardship_index = ( select max(hardship_index) from chicago_socioeconomic_data ) \n",
    "\n",
    "Correct answer: 'Riverdale'\n",
    "    \n",
    "```\n",
    "\n",
    "</details>\n",
    "\n"
   ]
  },
  {
   "cell_type": "markdown",
   "metadata": {},
   "source": [
    "### Problem 5\n",
    "\n",
    "##### Which Chicago community areas have per-capita incomes greater than $60,000?\n"
   ]
  },
  {
   "cell_type": "code",
   "execution_count": 12,
   "metadata": {
    "tags": []
   },
   "outputs": [
    {
     "name": "stdout",
     "output_type": "stream",
     "text": [
      " * ibm_db_sa://djg74088:***@2f3279a5-73d1-4859-88f0-a6c3e6b4b907.c3n41cmd0nqnrk39u98g.databases.appdomain.cloud:30756/BLUDB\n",
      "Done.\n"
     ]
    },
    {
     "data": {
      "text/html": [
       "<table>\n",
       "    <tr>\n",
       "        <th>community_area_name</th>\n",
       "    </tr>\n",
       "    <tr>\n",
       "        <td>Lake View</td>\n",
       "    </tr>\n",
       "    <tr>\n",
       "        <td>Lincoln Park</td>\n",
       "    </tr>\n",
       "    <tr>\n",
       "        <td>Near North Side</td>\n",
       "    </tr>\n",
       "    <tr>\n",
       "        <td>Loop</td>\n",
       "    </tr>\n",
       "</table>"
      ],
      "text/plain": [
       "[('Lake View',), ('Lincoln Park',), ('Near North Side',), ('Loop',)]"
      ]
     },
     "execution_count": 12,
     "metadata": {},
     "output_type": "execute_result"
    }
   ],
   "source": [
    "%sql SELECT \"COMMUNITY_AREA_NAME\" FROM CENSUS_DATA WHERE \"PER_CAPITA_INCOME\" > 60000;\n"
   ]
  },
  {
   "cell_type": "markdown",
   "metadata": {},
   "source": [
    "<details><summary>Click here for the solution</summary>\n",
    "\n",
    "```python\n",
    "%sql SELECT community_area_name FROM chicago_socioeconomic_data WHERE per_capita_income_ > 60000;\n",
    "\n",
    "Correct answer:Lake View,Lincoln Park, Near North Side, Loop\n",
    "    \n",
    "```\n",
    "\n",
    "</details>\n",
    "\n",
    "\n"
   ]
  },
  {
   "cell_type": "markdown",
   "metadata": {},
   "source": [
    "### Problem 6\n",
    "\n",
    "##### Create a scatter plot using the variables `per_capita_income_` and `hardship_index`. Explain the correlation between the two variables.\n"
   ]
  },
  {
   "cell_type": "code",
   "execution_count": 15,
   "metadata": {
    "tags": []
   },
   "outputs": [
    {
     "name": "stdout",
     "output_type": "stream",
     "text": [
      "<class 'pandas.core.frame.DataFrame'>\n",
      "RangeIndex: 78 entries, 0 to 77\n",
      "Data columns (total 9 columns):\n",
      " #   Column                                        Non-Null Count  Dtype  \n",
      "---  ------                                        --------------  -----  \n",
      " 0   COMMUNITY_AREA_NUMBER                         77 non-null     float64\n",
      " 1   COMMUNITY_AREA_NAME                           78 non-null     object \n",
      " 2   PERCENT_OF_HOUSING_CROWDED                    78 non-null     float64\n",
      " 3   PERCENT_HOUSEHOLDS_BELOW_POVERTY              78 non-null     float64\n",
      " 4   PERCENT_AGED_16__UNEMPLOYED                   78 non-null     float64\n",
      " 5   PERCENT_AGED_25__WITHOUT_HIGH_SCHOOL_DIPLOMA  78 non-null     float64\n",
      " 6   PERCENT_AGED_UNDER_18_OR_OVER_64              78 non-null     float64\n",
      " 7   PER_CAPITA_INCOME                             78 non-null     int64  \n",
      " 8   HARDSHIP_INDEX                                77 non-null     float64\n",
      "dtypes: float64(7), int64(1), object(1)\n",
      "memory usage: 5.6+ KB\n"
     ]
    }
   ],
   "source": [
    "chicago_socioeconomic_data.info()"
   ]
  },
  {
   "cell_type": "code",
   "execution_count": 17,
   "metadata": {},
   "outputs": [
    {
     "data": {
      "text/plain": [
       "<seaborn.axisgrid.JointGrid at 0x7f89508522c0>"
      ]
     },
     "execution_count": 17,
     "metadata": {},
     "output_type": "execute_result"
    },
    {
     "data": {
      "image/png": "[encoded data removed]",
      "text/plain": [
       "<Figure size 600x600 with 3 Axes>"
      ]
     },
     "metadata": {},
     "output_type": "display_data"
    }
   ],
   "source": [
    "import seaborn as sns\n",
    "sns.jointplot(x='PER_CAPITA_INCOME',y='HARDSHIP_INDEX',data=chicago_socioeconomic_data)"
   ]
  },
  {
   "cell_type": "markdown",
   "metadata": {},
   "source": [
    "<details><summary>Click here for the solution</summary>\n",
    "\n",
    "```python\n",
    "# if the import command gives ModuleNotFoundError: No module named 'seaborn'\n",
    "# then uncomment the following line i.e. delete the # to install the seaborn package \n",
    "# !pip install seaborn==0.9.0\n",
    "\n",
    "import matplotlib.pyplot as plt\n",
    "%matplotlib inline\n",
    "import seaborn as sns\n",
    "\n",
    "income_vs_hardship = %sql SELECT per_capita_income_, hardship_index FROM chicago_socioeconomic_data;\n",
    "plot = sns.jointplot(x='per_capita_income_',y='hardship_index', data=income_vs_hardship.DataFrame())\n",
    "\n",
    "Correct answer:You can see that as Per Capita Income rises as the Hardship Index decreases. We see that the points on the scatter plot are somewhat closer to a straight line in the negative direction, so we have a negative correlation between the two variables. \n",
    "    \n",
    "```\n",
    "\n",
    "</details>\n",
    "\n",
    "\n"
   ]
  },
  {
   "cell_type": "markdown",
   "metadata": {},
   "source": [
    "### Conclusion\n",
    "\n",
    "##### Now that you know how to do basic exploratory data analysis using SQL and python visualization tools, you can further explore this dataset to see how the variable `per_capita_income_` is related to `percent_households_below_poverty` and `percent_aged_16_unemployed`. Try to create interesting visualizations!\n"
   ]
  },
  {
   "cell_type": "markdown",
   "metadata": {},
   "source": [
    "## Summary\n",
    "\n",
    "##### In this lab you learned how to store a real world data set from the internet in a database (Db2 on IBM Cloud), gain insights into data using SQL queries. You also visualized a portion of the data in the database to see what story it tells.\n"
   ]
  },
  {
   "cell_type": "markdown",
   "metadata": {},
   "source": [
    "## Author\n",
    "\n",
    "<a href=\"https://www.linkedin.com/in/ravahuja/?utm_medium=Exinfluencer&utm_source=Exinfluencer&utm_content=000026UJ&utm_term=10006555&utm_id=NA-SkillsNetwork-Channel-SkillsNetworkCoursesIBMDeveloperSkillsNetworkDB0201ENSkillsNetwork22-2022-01-01\" target=\"_blank\">Rav Ahuja</a>\n",
    "\n",
    "\n",
    "## Change Log\n",
    "\n",
    "\n",
    "|  Date (YYYY-MM-DD) |  Version | Changed By  |  Change Description |\n",
    "|---|---|---|---|\n",
    "| 2021-11-17  | 2.3  | Lakshmi  | Updated library  |\n",
    "| 2021-07-09 | 2.2 | Malika | Updated connection string |\n",
    "| 2021-05-06 | 2.1 |Malika Singla | Added libraries |\n",
    "| 2020-08-28  | 2.0  | Lavanya  |  Moved lab to course repo in GitLab |\n",
    "\n",
    "\n",
    "\n",
    "<hr>\n",
    "\n",
    "## <h3 align=\"center\"> © IBM Corporation 2020. All rights reserved. <h3/>\n"
   ]
  }
 ],
 "metadata": {
  "kernelspec": {
   "display_name": "Python 3 (ipykernel)",
   "language": "python",
   "name": "python3"
  },
  "language_info": {
   "codemirror_mode": {
    "name": "ipython",
    "version": 3
   },
   "file_extension": ".py",
   "mimetype": "text/x-python",
   "name": "python",
   "nbconvert_exporter": "python",
   "pygments_lexer": "ipython3",
   "version": "3.10.10"
  }
 },
 "nbformat": 4,
 "nbformat_minor": 4
}
