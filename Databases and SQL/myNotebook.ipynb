{
 "cells": [
  {
   "cell_type": "code",
   "execution_count": null,
   "id": "04dc335b-44fb-445c-b925-b023a39915fc",
   "metadata": {
    "tags": []
   },
   "outputs": [],
   "source": [
    "import sqlite3"
   ]
  },
  {
   "cell_type": "code",
   "execution_count": null,
   "id": "e9563116-6e1c-40ac-abda-c50eab747df5",
   "metadata": {
    "tags": []
   },
   "outputs": [],
   "source": [
    "con = sqlite3.connect(\"example.db\")"
   ]
  },
  {
   "cell_type": "code",
   "execution_count": null,
   "id": "47f1f294-683f-4ad6-957e-d4e68041c253",
   "metadata": {
    "tags": []
   },
   "outputs": [],
   "source": [
    "cur_obj = con.cursor()"
   ]
  },
  {
   "cell_type": "code",
   "execution_count": null,
   "id": "5f65cc6d-0374-4a42-aca3-9c4206f31faa",
   "metadata": {
    "tags": []
   },
   "outputs": [],
   "source": [
    "cur_obj.execute(\"CREATE TABLE CUSTOMER(ID INTEGER PRIMARY KEY, \\\n",
    "FNAME VARCHAR(10),LNAME VARCHAR(10),PHONE CHAR(10))\")"
   ]
  },
  {
   "cell_type": "code",
   "execution_count": null,
   "id": "2cb7d4f7-796d-4560-8db7-7e87fdb76d5e",
   "metadata": {
    "tags": []
   },
   "outputs": [],
   "source": [
    "cur_obj.execute(\"INSERT INTO CUSTOMER(ID,FNAME,LNAME,PHONE) VALUES \\\n",
    "(1,'MAX','DUNCAN','2345566778'),(2,'CLARA','DAWSON','4567433945')\")"
   ]
  },
  {
   "cell_type": "code",
   "execution_count": null,
   "id": "e9bfa6fd-ddff-4984-a943-a9f4ed65d800",
   "metadata": {
    "tags": []
   },
   "outputs": [],
   "source": [
    "cur_obj.execute(\"SELECT * FROM CUSTOMER\")\n",
    "D = cur_obj.fetchall()"
   ]
  },
  {
   "cell_type": "code",
   "execution_count": null,
   "id": "66945778-c413-4c1b-9113-109f1fa04f83",
   "metadata": {
    "tags": []
   },
   "outputs": [],
   "source": [
    "for row in D:\n",
    "    print(row)"
   ]
  },
  {
   "cell_type": "code",
   "execution_count": null,
   "id": "4a1bd8f5-e692-4b4b-a78d-35f589de743a",
   "metadata": {
    "tags": []
   },
   "outputs": [],
   "source": [
    "import pandas as pd\n",
    "df  = pd.read_sql_query(\"SELECT * FROM CUSTOMER;\",con)"
   ]
  },
  {
   "cell_type": "code",
   "execution_count": null,
   "id": "1928e771-4761-4f8b-bdda-ff4111f4a8f2",
   "metadata": {
    "tags": []
   },
   "outputs": [],
   "source": [
    "df"
   ]
  },
  {
   "cell_type": "code",
   "execution_count": null,
   "id": "63802e81-046a-4953-b146-f338cf1ac357",
   "metadata": {
    "tags": []
   },
   "outputs": [],
   "source": [
    "con.close()"
   ]
  },
  {
   "cell_type": "markdown",
   "id": "d28bea9d-13f2-48cf-b9e5-f6f1f2ec003f",
   "metadata": {},
   "source": [
    "---"
   ]
  },
  {
   "cell_type": "markdown",
   "id": "22f20e11-f6a8-4b0e-a9f8-bef3869f0a59",
   "metadata": {},
   "source": [
    "---"
   ]
  },
  {
   "cell_type": "code",
   "execution_count": null,
   "id": "ccd630c9-9a28-47af-bc40-7d17408dd4b3",
   "metadata": {
    "tags": []
   },
   "outputs": [],
   "source": [
    "import ibm_db"
   ]
  },
  {
   "cell_type": "code",
   "execution_count": null,
   "id": "4d40a288-2485-49ce-ae13-fc562c530d05",
   "metadata": {
    "tags": []
   },
   "outputs": [],
   "source": [
    "dsn_hostname = \"2f3279a5-73d1-4859-88f0-a6c3e6b4b907.c3n41cmd0nqnrk39u98g.databases.appdomain.cloud\"\n",
    "dsn_uid = \"djg74088\"        \n",
    "dsn_pwd = \"BWopbaIkKGfj6Kio\"\n",
    "\n",
    "dsn_driver = \"{IBM DB2 ODBC DRIVER}\"\n",
    "dsn_database = \"BLUDB\"      \n",
    "dsn_port = \"30756\"          \n",
    "dsn_protocol = \"TCPIP\"      \n",
    "dsn_security = \"SSL\"        "
   ]
  },
  {
   "cell_type": "code",
   "execution_count": null,
   "id": "abe85fd5-caf1-4eef-a74e-44b6e96e3766",
   "metadata": {
    "tags": []
   },
   "outputs": [],
   "source": [
    "dsn = (\n",
    "    \"DRIVER={0};\"\n",
    "    \"DATABASE={1};\"\n",
    "    \"HOSTNAME={2};\"\n",
    "    \"PORT={3};\"\n",
    "    \"PROTOCOL={4};\"\n",
    "    \"UID={5};\"\n",
    "    \"PWD={6};\"\n",
    "    \"SECURITY={7};\").format(dsn_driver, dsn_database, dsn_hostname, dsn_port, dsn_protocol, dsn_uid, dsn_pwd,dsn_security)\n",
    "\n",
    "#print the connection string to check correct values are specified\n",
    "print(dsn)"
   ]
  },
  {
   "cell_type": "code",
   "execution_count": null,
   "id": "effbf29c-3401-4442-babd-781f481fe960",
   "metadata": {
    "tags": []
   },
   "outputs": [],
   "source": [
    "try:\n",
    "   con=ibm_db.connect(dsn,\"\",\"\")\n",
    "   print(\"Connection successful!\")\n",
    "except:\n",
    "    print(\"Unable to connect\")"
   ]
  },
  {
   "cell_type": "code",
   "execution_count": null,
   "id": "3d98861d-7188-4c12-9ea7-c177aaa9d9e2",
   "metadata": {
    "tags": []
   },
   "outputs": [],
   "source": [
    "server = ibm_db.server_info(con)"
   ]
  },
  {
   "cell_type": "code",
   "execution_count": null,
   "id": "70776e03-a4c2-4ce0-8da7-fdb7d9f4c0f8",
   "metadata": {
    "tags": []
   },
   "outputs": [],
   "source": [
    "print(server.DBMS_NAME)\n",
    "print(server.DBMS_VER)\n",
    "print(server.DB_CODEPAGE)\n",
    "print(server.DB_NAME)"
   ]
  },
  {
   "cell_type": "code",
   "execution_count": null,
   "id": "509a4646-3ee6-4439-b51a-1a718c2165b4",
   "metadata": {
    "tags": []
   },
   "outputs": [],
   "source": [
    "client = ibm_db.client_info(con)"
   ]
  },
  {
   "cell_type": "code",
   "execution_count": null,
   "id": "b0da49a3-077c-42eb-9451-8f09af02dcc8",
   "metadata": {
    "tags": []
   },
   "outputs": [],
   "source": [
    "print(client.DATA_SOURCE_NAME)\n",
    "print(client.DRIVER_NAME)\n",
    "print(client.DRIVER_VER)\n",
    "print(client.DRIVER_ODBC_VER)\n",
    "print(client.APPL_CODEPAGE)\n",
    "print(client.CONN_CODEPAGE)"
   ]
  },
  {
   "cell_type": "markdown",
   "id": "e858f7cd-80dd-487f-b3c9-1c8de8f29604",
   "metadata": {},
   "source": [
    "---"
   ]
  },
  {
   "cell_type": "markdown",
   "id": "a6583043-fe77-452d-ace9-37ac49021dbc",
   "metadata": {},
   "source": [
    "---"
   ]
  },
  {
   "cell_type": "code",
   "execution_count": null,
   "id": "19613252-a19d-4812-8072-1bab8caf5a18",
   "metadata": {},
   "outputs": [],
   "source": [
    "import ibm_db"
   ]
  },
  {
   "cell_type": "code",
   "execution_count": null,
   "id": "6177763b-49cd-4871-b159-015ad8eed250",
   "metadata": {
    "tags": []
   },
   "outputs": [],
   "source": [
    "dsn_hostname = \"2f3279a5-73d1-4859-88f0-a6c3e6b4b907.c3n41cmd0nqnrk39u98g.databases.appdomain.cloud\"\n",
    "dsn_port = \"30756\"          \n",
    "dsn_username = \"djg74088\"        \n",
    "dsn_password = \"BWopbaIkKGfj6Kio\"\n",
    "dsn_security = \"SSL\"\n",
    "dsn_database = \"BLUDB\"\n",
    "dsn_driver = \"{IBM DB2 ODBC DRIVER}\"\n",
    "dsn_protocol = \"TCPIP\""
   ]
  },
  {
   "cell_type": "code",
   "execution_count": null,
   "id": "7f79d4b6-18d6-468a-83a0-7cdca3fc5497",
   "metadata": {
    "tags": []
   },
   "outputs": [],
   "source": [
    "dsn = (\n",
    "\"DRIVER={0};\"\n",
    "\"DATABASE={1};\"\n",
    "\"HOSTNAME={2};\"\n",
    "\"PORT={3};\"\n",
    "\"UID={4};\"\n",
    "\"PWD={5};\"\n",
    "\"SECURITY={6};\"\n",
    "\"PROTOCOL={7};\"\n",
    ").format(dsn_driver,dsn_database,dsn_hostname,dsn_port,dsn_username,dsn_password,dsn_security,dsn_protocol)"
   ]
  },
  {
   "cell_type": "code",
   "execution_count": null,
   "id": "64f33618-690a-4d7e-b778-1fec96248735",
   "metadata": {
    "tags": []
   },
   "outputs": [],
   "source": [
    "try:\n",
    "    con=ibm_db.connect(dsn,\"\",\"\")\n",
    "    print(\"connection successful\")\n",
    "except:\n",
    "    print(\"unable to connect\")"
   ]
  },
  {
   "cell_type": "code",
   "execution_count": null,
   "id": "13a97b11-7ff9-4a8e-b197-12ebf0ae6e18",
   "metadata": {
    "tags": []
   },
   "outputs": [],
   "source": [
    "dropQuery = \"DROP TABLE CUSTOMER IF EXISTS;\"\n",
    "dropStmt = ibm_db.exec_immediate(con,dropQuery)"
   ]
  },
  {
   "cell_type": "code",
   "execution_count": null,
   "id": "4c4151e9-17fb-47a9-b140-034d6ccc09e6",
   "metadata": {
    "tags": []
   },
   "outputs": [],
   "source": [
    "createQuery = \"CREATE TABLE CUSTOMER(ID INTEGER PRIMARY KEY NOT NULL, \\\n",
    "FNAME VARCHAR(10),LNAME VARCHAR(10),PHONE CHAR(10))\"\n",
    "\n",
    "createStmt = ibm_db.exec_immediate(con,createQuery)"
   ]
  },
  {
   "cell_type": "code",
   "execution_count": null,
   "id": "5f455ddb-00f6-4e47-bf38-f765d553ac3e",
   "metadata": {
    "tags": []
   },
   "outputs": [],
   "source": [
    "insertQuery = \"INSERT INTO CUSTOMER(ID,FNAME,LNAME,PHONE) VALUES \\\n",
    "(1,'MAX','DUNCAN','2345566778'),(2,'CLARA','DAWSON','4567433945')\"\n",
    "\n",
    "insertStmt = ibm_db.exec_immediate(con,insertQuery)"
   ]
  },
  {
   "cell_type": "code",
   "execution_count": null,
   "id": "aed0a6b2-ec66-4244-acb7-7f07ae7ca1b2",
   "metadata": {
    "tags": []
   },
   "outputs": [],
   "source": [
    "selectQuery = \"SELECT * FROM CUSTOMER;\"\n",
    "\n",
    "selectStmt = ibm_db.exec_immediate(con,selectQuery)"
   ]
  },
  {
   "cell_type": "code",
   "execution_count": null,
   "id": "caf107c6-0460-4dc8-9155-cfda37bf761b",
   "metadata": {
    "tags": []
   },
   "outputs": [],
   "source": [
    "while ibm_db.fetch_row(selectStmt) != False:\n",
    "    print(ibm_db.result(selectStmt,0),ibm_db.result(selectStmt,1),ibm_db.result(selectStmt,2),ibm_db.result(selectStmt,3))"
   ]
  },
  {
   "cell_type": "code",
   "execution_count": null,
   "id": "dff65ae3-0ebf-44e6-8730-3414a15ba680",
   "metadata": {
    "tags": []
   },
   "outputs": [],
   "source": [
    "import pandas as pd\n",
    "import ibm_db_dbi\n",
    "pcon = ibm_db_dbi.Connection(con)\n",
    "df = pd.read_sql_query(selectQuery,pcon,index_col='ID')"
   ]
  },
  {
   "cell_type": "code",
   "execution_count": null,
   "id": "f15f08b9-fd87-4468-b28a-e6a008fb8a26",
   "metadata": {
    "tags": []
   },
   "outputs": [],
   "source": [
    "df"
   ]
  },
  {
   "cell_type": "code",
   "execution_count": null,
   "id": "4e8dcd22-e3e0-4fc1-92eb-2e0bc1f535f0",
   "metadata": {
    "tags": []
   },
   "outputs": [],
   "source": [
    "df.iloc[0,1]"
   ]
  },
  {
   "cell_type": "markdown",
   "id": "1597eb90-541c-4152-9743-8c6068676530",
   "metadata": {},
   "source": [
    "---\n",
    "---"
   ]
  },
  {
   "cell_type": "code",
   "execution_count": null,
   "id": "730ec17c-e530-434c-88fd-38386ad96d2e",
   "metadata": {
    "tags": []
   },
   "outputs": [],
   "source": [
    "%load_ext sql"
   ]
  },
  {
   "cell_type": "code",
   "execution_count": null,
   "id": "8b0ddfac-20db-490e-b2cd-14b25fd905eb",
   "metadata": {
    "tags": []
   },
   "outputs": [],
   "source": [
    "import sqlite3\n",
    "con = sqlite3.connect('example.db')\n",
    "cur_obj = con.cursor()"
   ]
  },
  {
   "cell_type": "code",
   "execution_count": null,
   "id": "198ffe68-ade2-423e-b723-96f6926d94b2",
   "metadata": {
    "tags": []
   },
   "outputs": [],
   "source": [
    "%sql sqlite:///example.db"
   ]
  },
  {
   "cell_type": "code",
   "execution_count": null,
   "id": "5efad178-3d5f-4772-b7ee-77cf6e3e93c6",
   "metadata": {
    "tags": []
   },
   "outputs": [],
   "source": [
    "%sql DROP TABLE INTERNATIONAL_STUDENT_TEST_SCORES;"
   ]
  },
  {
   "cell_type": "code",
   "execution_count": null,
   "id": "ce45d580-cf14-4fe0-a8c5-6266564049df",
   "metadata": {
    "tags": []
   },
   "outputs": [],
   "source": [
    "%%sql \n",
    "CREATE TABLE INTERNATIONAL_STUDENT_TEST_SCORES (\n",
    "\tcountry VARCHAR(50),\n",
    "\tfirst_name VARCHAR(50),\n",
    "\tlast_name VARCHAR(50),\n",
    "\ttest_score INT\n",
    ");\n",
    "INSERT INTO INTERNATIONAL_STUDENT_TEST_SCORES (country, first_name, last_name, test_score)\n",
    "VALUES\n",
    "('United States', 'Marshall', 'Bernadot', 54),\n",
    "('Ghana', 'Celinda', 'Malkin', 51),\n",
    "('Ukraine', 'Guillermo', 'Furze', 53),\n",
    "('Greece', 'Aharon', 'Tunnow', 48),\n",
    "('Russia', 'Bail', 'Goodwin', 46),\n",
    "('Poland', 'Cole', 'Winteringham', 49),\n",
    "('Sweden', 'Emlyn', 'Erricker', 55),\n",
    "('Russia', 'Cathee', 'Sivewright', 49),\n",
    "('China', 'Barny', 'Ingerson', 57),\n",
    "('Uganda', 'Sharla', 'Papaccio', 55),\n",
    "('China', 'Stella', 'Youens', 51),\n",
    "('Poland', 'Julio', 'Buesden', 48),\n",
    "('United States', 'Tiffie', 'Cosely', 58),\n",
    "('Poland', 'Auroora', 'Stiffell', 45),\n",
    "('China', 'Clarita', 'Huet', 52),\n",
    "('Poland', 'Shannon', 'Goulden', 45),\n",
    "('Philippines', 'Emylee', 'Privost', 50),\n",
    "('France', 'Madelina', 'Burk', 49),\n",
    "('China', 'Saunderson', 'Root', 58),\n",
    "('Indonesia', 'Bo', 'Waring', 55),\n",
    "('China', 'Hollis', 'Domotor', 45),\n",
    "('Russia', 'Robbie', 'Collip', 46),\n",
    "('Philippines', 'Davon', 'Donisi', 46),\n",
    "('China', 'Cristabel', 'Radeliffe', 48),\n",
    "('China', 'Wallis', 'Bartleet', 58),\n",
    "('Moldova', 'Arleen', 'Stailey', 38),\n",
    "('Ireland', 'Mendel', 'Grumble', 58),\n",
    "('China', 'Sallyann', 'Exley', 51),\n",
    "('Mexico', 'Kain', 'Swaite', 46),\n",
    "('Indonesia', 'Alonso', 'Bulteel', 45),\n",
    "('Armenia', 'Anatol', 'Tankus', 51),\n",
    "('Indonesia', 'Coralyn', 'Dawkins', 48),\n",
    "('China', 'Deanne', 'Edwinson', 45),\n",
    "('China', 'Georgiana', 'Epple', 51),\n",
    "('Portugal', 'Bartlet', 'Breese', 56),\n",
    "('Azerbaijan', 'Idalina', 'Lukash', 50),\n",
    "('France', 'Livvie', 'Flory', 54),\n",
    "('Malaysia', 'Nonie', 'Borit', 48),\n",
    "('Indonesia', 'Clio', 'Mugg', 47),\n",
    "('Brazil', 'Westley', 'Measor', 48),\n",
    "('Philippines', 'Katrinka', 'Sibbert', 51),\n",
    "('Poland', 'Valentia', 'Mounch', 50),\n",
    "('Norway', 'Sheilah', 'Hedditch', 53),\n",
    "('Papua New Guinea', 'Itch', 'Jubb', 50),\n",
    "('Latvia', 'Stesha', 'Garnson', 53),\n",
    "('Canada', 'Cristionna', 'Wadmore', 46),\n",
    "('China', 'Lianna', 'Gatward', 43),\n",
    "('Guatemala', 'Tanney', 'Vials', 48),\n",
    "('France', 'Alma', 'Zavittieri', 44),\n",
    "('China', 'Alvira', 'Tamas', 50),\n",
    "('United States', 'Shanon', 'Peres', 45),\n",
    "('Sweden', 'Maisey', 'Lynas', 53),\n",
    "('Indonesia', 'Kip', 'Hothersall', 46),\n",
    "('China', 'Cash', 'Landis', 48),\n",
    "('Panama', 'Kennith', 'Digance', 45),\n",
    "('China', 'Ulberto', 'Riggeard', 48),\n",
    "('Switzerland', 'Judy', 'Gilligan', 49),\n",
    "('Philippines', 'Tod', 'Trevaskus', 52),\n",
    "('Brazil', 'Herold', 'Heggs', 44),\n",
    "('Latvia', 'Verney', 'Note', 50),\n",
    "('Poland', 'Temp', 'Ribey', 50),\n",
    "('China', 'Conroy', 'Egdal', 48),\n",
    "('Japan', 'Gabie', 'Alessandone', 47),\n",
    "('Ukraine', 'Devlen', 'Chaperlin', 54),\n",
    "('France', 'Babbette', 'Turner', 51),\n",
    "('Czech Republic', 'Virgil', 'Scotney', 52),\n",
    "('Tajikistan', 'Zorina', 'Bedow', 49),\n",
    "('China', 'Aidan', 'Rudeyeard', 50),\n",
    "('Ireland', 'Saunder', 'MacLice', 48),\n",
    "('France', 'Waly', 'Brunstan', 53),\n",
    "('China', 'Gisele', 'Enns', 52),\n",
    "('Peru', 'Mina', 'Winchester', 48),\n",
    "('Japan', 'Torie', 'MacShirrie', 50),\n",
    "('Russia', 'Benjamen', 'Kenford', 51),\n",
    "('China', 'Etan', 'Burn', 53),\n",
    "('Russia', 'Merralee', 'Chaperlin', 38),\n",
    "('Indonesia', 'Lanny', 'Malam', 49),\n",
    "('Canada', 'Wilhelm', 'Deeprose', 54),\n",
    "('Czech Republic', 'Lari', 'Hillhouse', 48),\n",
    "('China', 'Ossie', 'Woodley', 52),\n",
    "('Macedonia', 'April', 'Tyer', 50),\n",
    "('Vietnam', 'Madelon', 'Dansey', 53),\n",
    "('Ukraine', 'Korella', 'McNamee', 52),\n",
    "('Jamaica', 'Linnea', 'Cannam', 43),\n",
    "('China', 'Mart', 'Coling', 52),\n",
    "('Indonesia', 'Marna', 'Causbey', 47),\n",
    "('China', 'Berni', 'Daintier', 55),\n",
    "('Poland', 'Cynthia', 'Hassell', 49),\n",
    "('Canada', 'Carma', 'Schule', 49),\n",
    "('Indonesia', 'Malia', 'Blight', 48),\n",
    "('China', 'Paulo', 'Seivertsen', 47),\n",
    "('Niger', 'Kaylee', 'Hearley', 54),\n",
    "('Japan', 'Maure', 'Jandak', 46),\n",
    "('Argentina', 'Foss', 'Feavers', 45),\n",
    "('Venezuela', 'Ron', 'Leggitt', 60),\n",
    "('Russia', 'Flint', 'Gokes', 40),\n",
    "('China', 'Linet', 'Conelly', 52),\n",
    "('Philippines', 'Nikolas', 'Birtwell', 57),\n",
    "('Australia', 'Eduard', 'Leipelt', 53)"
   ]
  },
  {
   "cell_type": "code",
   "execution_count": null,
   "id": "4a457749-9dda-42b8-b815-5b249c81f80f",
   "metadata": {
    "tags": []
   },
   "outputs": [],
   "source": [
    "score=38\n",
    "%sql SELECT * FROM INTERNATIONAL_STUDENT_TEST_SCORES \\\n",
    "WHERE \"test_score\"=:score;"
   ]
  },
  {
   "cell_type": "code",
   "execution_count": null,
   "id": "42bf5923-8022-4b14-9e71-d644172ae33b",
   "metadata": {
    "tags": []
   },
   "outputs": [],
   "source": [
    "Stmt = %sql SELECT TEST_SCORE,COUNT(*) AS TEST_FREQUENCY FROM INTERNATIONAL_STUDENT_TEST_SCORES \\\n",
    "GROUP BY TEST_SCORE;"
   ]
  },
  {
   "cell_type": "code",
   "execution_count": null,
   "id": "47740766-e973-4969-a763-26ae220503b7",
   "metadata": {
    "tags": []
   },
   "outputs": [],
   "source": [
    "df = Stmt.DataFrame()\n",
    "df.head()"
   ]
  },
  {
   "cell_type": "code",
   "execution_count": null,
   "id": "49ed9af7-6c21-4e09-a2dd-6931df9e579e",
   "metadata": {
    "tags": []
   },
   "outputs": [],
   "source": [
    "import matplotlib.pyplot as plt\n",
    "%matplotlib inline\n",
    "import seaborn as sns"
   ]
  },
  {
   "cell_type": "code",
   "execution_count": null,
   "id": "c1e72923-549f-4efe-9732-c028697cf1a1",
   "metadata": {
    "tags": []
   },
   "outputs": [],
   "source": [
    "sns.barplot(y='test_score',x='TEST_FREQUENCY',data=df)"
   ]
  },
  {
   "cell_type": "markdown",
   "id": "95ad168a-a8b4-4c85-902d-0a5393bd1d13",
   "metadata": {},
   "source": [
    "---\n",
    "---"
   ]
  },
  {
   "cell_type": "code",
   "execution_count": null,
   "id": "a31a3719-c956-444d-a1f1-0833f3abde72",
   "metadata": {
    "tags": []
   },
   "outputs": [],
   "source": [
    "%load_ext sql"
   ]
  },
  {
   "cell_type": "code",
   "execution_count": null,
   "id": "55e6a59d-80f7-4db2-87a4-f52e6c183e08",
   "metadata": {},
   "outputs": [],
   "source": [
    "%sql ibm_db_sa://djg74088:BWopbaIkKGfj6Kio@2f3279a5-73d1-4859-88f0-a6c3e6b4b907.c3n41cmd0nqnrk39u98g.databases.appdomain.cloud:30756/BLUDB?security=SSL"
   ]
  },
  {
   "cell_type": "code",
   "execution_count": null,
   "id": "ae8e533e-d35d-42be-9e5e-75761927f0da",
   "metadata": {
    "tags": []
   },
   "outputs": [],
   "source": [
    "%sql SELECT * FROM SYSCAT.COLUMNS WHERE \"TABSCHEMA\"='DJG74088' \\\n",
    "AND \"TABNAME\"='INTERNATIONAL_STUDENT_TEST_SCORES';"
   ]
  },
  {
   "cell_type": "code",
   "execution_count": null,
   "id": "5065779e-a8db-42be-a33e-1adbd341f80e",
   "metadata": {
    "tags": []
   },
   "outputs": [],
   "source": [
    "%%sql \n",
    "\n",
    "CREATE TABLE INTERNATIONAL_STUDENT_TEST_SCORES (\n",
    "\tcountry VARCHAR(50),\n",
    "\tfirst_name VARCHAR(50),\n",
    "\tlast_name VARCHAR(50),\n",
    "\ttest_score INT\n",
    ");\n",
    "\n",
    "INSERT INTO INTERNATIONAL_STUDENT_TEST_SCORES (country, first_name, last_name, test_score)\n",
    "VALUES\n",
    "('United States', 'Marshall', 'Bernadot', 54),\n",
    "('Ghana', 'Celinda', 'Malkin', 51),\n",
    "('Ukraine', 'Guillermo', 'Furze', 53),\n",
    "('Greece', 'Aharon', 'Tunnow', 48),\n",
    "('Russia', 'Bail', 'Goodwin', 46),\n",
    "('Poland', 'Cole', 'Winteringham', 49),\n",
    "('Sweden', 'Emlyn', 'Erricker', 55),\n",
    "('Russia', 'Cathee', 'Sivewright', 49),\n",
    "('China', 'Barny', 'Ingerson', 57),\n",
    "('Uganda', 'Sharla', 'Papaccio', 55),\n",
    "('China', 'Stella', 'Youens', 51),\n",
    "('Poland', 'Julio', 'Buesden', 48),\n",
    "('United States', 'Tiffie', 'Cosely', 58),\n",
    "('Poland', 'Auroora', 'Stiffell', 45),\n",
    "('China', 'Clarita', 'Huet', 52),\n",
    "('Poland', 'Shannon', 'Goulden', 45),\n",
    "('Philippines', 'Emylee', 'Privost', 50),\n",
    "('France', 'Madelina', 'Burk', 49),\n",
    "('China', 'Saunderson', 'Root', 58),\n",
    "('Indonesia', 'Bo', 'Waring', 55),\n",
    "('China', 'Hollis', 'Domotor', 45),\n",
    "('Russia', 'Robbie', 'Collip', 46),\n",
    "('Philippines', 'Davon', 'Donisi', 46),\n",
    "('China', 'Cristabel', 'Radeliffe', 48),\n",
    "('China', 'Wallis', 'Bartleet', 58),\n",
    "('Moldova', 'Arleen', 'Stailey', 38),\n",
    "('Ireland', 'Mendel', 'Grumble', 58),\n",
    "('China', 'Sallyann', 'Exley', 51),\n",
    "('Mexico', 'Kain', 'Swaite', 46),\n",
    "('Indonesia', 'Alonso', 'Bulteel', 45),\n",
    "('Armenia', 'Anatol', 'Tankus', 51),\n",
    "('Indonesia', 'Coralyn', 'Dawkins', 48),\n",
    "('China', 'Deanne', 'Edwinson', 45),\n",
    "('China', 'Georgiana', 'Epple', 51),\n",
    "('Portugal', 'Bartlet', 'Breese', 56),\n",
    "('Azerbaijan', 'Idalina', 'Lukash', 50),\n",
    "('France', 'Livvie', 'Flory', 54),\n",
    "('Malaysia', 'Nonie', 'Borit', 48),\n",
    "('Indonesia', 'Clio', 'Mugg', 47),\n",
    "('Brazil', 'Westley', 'Measor', 48),\n",
    "('Philippines', 'Katrinka', 'Sibbert', 51),\n",
    "('Poland', 'Valentia', 'Mounch', 50),\n",
    "('Norway', 'Sheilah', 'Hedditch', 53),\n",
    "('Papua New Guinea', 'Itch', 'Jubb', 50),\n",
    "('Latvia', 'Stesha', 'Garnson', 53),\n",
    "('Canada', 'Cristionna', 'Wadmore', 46),\n",
    "('China', 'Lianna', 'Gatward', 43),\n",
    "('Guatemala', 'Tanney', 'Vials', 48),\n",
    "('France', 'Alma', 'Zavittieri', 44),\n",
    "('China', 'Alvira', 'Tamas', 50),\n",
    "('United States', 'Shanon', 'Peres', 45),\n",
    "('Sweden', 'Maisey', 'Lynas', 53),\n",
    "('Indonesia', 'Kip', 'Hothersall', 46),\n",
    "('China', 'Cash', 'Landis', 48),\n",
    "('Panama', 'Kennith', 'Digance', 45),\n",
    "('China', 'Ulberto', 'Riggeard', 48),\n",
    "('Switzerland', 'Judy', 'Gilligan', 49),\n",
    "('Philippines', 'Tod', 'Trevaskus', 52),\n",
    "('Brazil', 'Herold', 'Heggs', 44),\n",
    "('Latvia', 'Verney', 'Note', 50),\n",
    "('Poland', 'Temp', 'Ribey', 50),\n",
    "('China', 'Conroy', 'Egdal', 48),\n",
    "('Japan', 'Gabie', 'Alessandone', 47),\n",
    "('Ukraine', 'Devlen', 'Chaperlin', 54),\n",
    "('France', 'Babbette', 'Turner', 51),\n",
    "('Czech Republic', 'Virgil', 'Scotney', 52),\n",
    "('Tajikistan', 'Zorina', 'Bedow', 49),\n",
    "('China', 'Aidan', 'Rudeyeard', 50),\n",
    "('Ireland', 'Saunder', 'MacLice', 48),\n",
    "('France', 'Waly', 'Brunstan', 53),\n",
    "('China', 'Gisele', 'Enns', 52),\n",
    "('Peru', 'Mina', 'Winchester', 48),\n",
    "('Japan', 'Torie', 'MacShirrie', 50),\n",
    "('Russia', 'Benjamen', 'Kenford', 51),\n",
    "('China', 'Etan', 'Burn', 53),\n",
    "('Russia', 'Merralee', 'Chaperlin', 38),\n",
    "('Indonesia', 'Lanny', 'Malam', 49),\n",
    "('Canada', 'Wilhelm', 'Deeprose', 54),\n",
    "('Czech Republic', 'Lari', 'Hillhouse', 48),\n",
    "('China', 'Ossie', 'Woodley', 52),\n",
    "('Macedonia', 'April', 'Tyer', 50),\n",
    "('Vietnam', 'Madelon', 'Dansey', 53),\n",
    "('Ukraine', 'Korella', 'McNamee', 52),\n",
    "('Jamaica', 'Linnea', 'Cannam', 43),\n",
    "('China', 'Mart', 'Coling', 52),\n",
    "('Indonesia', 'Marna', 'Causbey', 47),\n",
    "('China', 'Berni', 'Daintier', 55),\n",
    "('Poland', 'Cynthia', 'Hassell', 49),\n",
    "('Canada', 'Carma', 'Schule', 49),\n",
    "('Indonesia', 'Malia', 'Blight', 48),\n",
    "('China', 'Paulo', 'Seivertsen', 47),\n",
    "('Niger', 'Kaylee', 'Hearley', 54),\n",
    "('Japan', 'Maure', 'Jandak', 46),\n",
    "('Argentina', 'Foss', 'Feavers', 45),\n",
    "('Venezuela', 'Ron', 'Leggitt', 60),\n",
    "('Russia', 'Flint', 'Gokes', 40),\n",
    "('China', 'Linet', 'Conelly', 52),\n",
    "('Philippines', 'Nikolas', 'Birtwell', 57),\n",
    "('Australia', 'Eduard', 'Leipelt', 53)"
   ]
  },
  {
   "cell_type": "code",
   "execution_count": null,
   "id": "a9c8c747-a01f-4f21-8bb2-5dfe5e01e7d2",
   "metadata": {
    "tags": []
   },
   "outputs": [],
   "source": [
    "country='ARGENTINA'\n",
    "%sql SELECT * FROM INTERNATIONAL_STUDENT_TEST_SCORES \\\n",
    "WHERE UPPER(\"COUNTRY\")=:country;"
   ]
  },
  {
   "cell_type": "code",
   "execution_count": null,
   "id": "d45dce0b-89d8-48f1-8936-afe034623850",
   "metadata": {
    "tags": []
   },
   "outputs": [],
   "source": [
    "stmt = %sql SELECT \"TEST_SCORE\" , COUNT(*) AS \"FREQUENCY\" FROM INTERNATIONAL_STUDENT_TEST_SCORES \\\n",
    "GROUP BY \"TEST_SCORE\";"
   ]
  },
  {
   "cell_type": "code",
   "execution_count": null,
   "id": "6e9fce54-7c00-42e1-b474-674078181bec",
   "metadata": {
    "tags": []
   },
   "outputs": [],
   "source": [
    "import pandas as pd\n",
    "df = stmt.DataFrame()\n",
    "df.head()"
   ]
  },
  {
   "cell_type": "code",
   "execution_count": null,
   "id": "e5dfecba-cab6-47da-8564-aa27cd15b282",
   "metadata": {
    "tags": []
   },
   "outputs": [],
   "source": [
    "import matplotlib.pyplot as plt\n",
    "# %matplotlib inline\n",
    "import seaborn as sns\n",
    "plot = sns.barplot(x='test_score',y='frequency',data=df)\n",
    "plt.setp(plot.get_xticklabels(),rotation=70)\n",
    "plt.show()"
   ]
  },
  {
   "cell_type": "code",
   "execution_count": null,
   "id": "bf2608b1-1ad1-4f3b-9d34-86c147fa81a6",
   "metadata": {
    "tags": []
   },
   "outputs": [],
   "source": [
    "import matplotlib.pyplot as plt\n",
    "import seaborn as sns\n",
    "plot = sns.jointplot(x='test_score',y='frequency',data=df)"
   ]
  },
  {
   "cell_type": "code",
   "execution_count": null,
   "id": "309b74ec-977e-454b-9831-0492e5ea64cf",
   "metadata": {
    "tags": []
   },
   "outputs": [],
   "source": [
    "stmt = %sql SELECT \"COUNTRY\",COUNT(*) AS \"FREQUENCY_OF_TESTS\" FROM INTERNATIONAL_STUDENT_TEST_SCORES \\\n",
    "GROUP BY \"COUNTRY\" \\\n",
    "ORDER BY \"FREQUENCY_OF_TESTS\" DESC \\\n",
    "LIMIT 10;"
   ]
  },
  {
   "cell_type": "code",
   "execution_count": null,
   "id": "07221c97-2606-48ae-8865-2edf445b4205",
   "metadata": {
    "tags": []
   },
   "outputs": [],
   "source": [
    "df = stmt.DataFrame()\n",
    "plot = sns.barplot(y='frequency_of_tests',x='country',data=df)\n",
    "plt.setp(plot.get_xticklabels(),rotation=70)\n",
    "plt.show()"
   ]
  },
  {
   "cell_type": "code",
   "execution_count": null,
   "id": "a90c21ff-88f6-47b9-91da-98d6cf597bbb",
   "metadata": {
    "tags": []
   },
   "outputs": [],
   "source": [
    "df = stmt.DataFrame()\n",
    "plot = sns.swarmplot(y='frequency_of_tests',x='country',data=df)\n",
    "plt.setp(plot.get_xticklabels(),rotation=70)\n",
    "plt.show()"
   ]
  },
  {
   "cell_type": "markdown",
   "id": "47e8d391-e693-4c49-bd6b-2571328e5139",
   "metadata": {},
   "source": [
    "---\n",
    "---"
   ]
  },
  {
   "cell_type": "code",
   "execution_count": null,
   "id": "427099dd-5325-4d66-b496-7340943ecccb",
   "metadata": {
    "tags": []
   },
   "outputs": [],
   "source": [
    "import ibm_db"
   ]
  },
  {
   "cell_type": "code",
   "execution_count": null,
   "id": "3e50c3b1-ac00-4aa2-8bc2-c1be162a59f6",
   "metadata": {
    "tags": []
   },
   "outputs": [],
   "source": [
    "dsn_hostname = \"2f3279a5-73d1-4859-88f0-a6c3e6b4b907.c3n41cmd0nqnrk39u98g.databases.appdomain.cloud\"\n",
    "dsn_uid = \"djg74088\"        \n",
    "dsn_pwd = \"BWopbaIkKGfj6Kio\"\n",
    "\n",
    "dsn_driver = \"{IBM DB2 ODBC DRIVER}\"\n",
    "dsn_database = \"BLUDB\"      \n",
    "dsn_port = \"30756\"          \n",
    "dsn_protocol = \"TCPIP\"      \n",
    "dsn_security = \"SSL\"   \n",
    "\n",
    "dsn = (\n",
    "    \"DRIVER={0};\"\n",
    "    \"DATABASE={1};\"\n",
    "    \"HOSTNAME={2};\"\n",
    "    \"PORT={3};\"\n",
    "    \"PROTOCOL={4};\"\n",
    "    \"UID={5};\"\n",
    "    \"PWD={6};\"\n",
    "    \"SECURITY={7};\").format(dsn_driver, dsn_database, dsn_hostname, dsn_port, dsn_protocol, dsn_uid, dsn_pwd,dsn_security)\n",
    "\n",
    "con = ibm_db.connect(dsn,\"\",\"\")"
   ]
  },
  {
   "cell_type": "code",
   "execution_count": null,
   "id": "f2569d63-6e7f-4c16-866f-714ce2c3ee2b",
   "metadata": {
    "tags": []
   },
   "outputs": [],
   "source": [
    "import pandas as pd\n",
    "stmt = ibm_db.exec_immediate(con,\"SELECT COUNT(*) FROM INTERNATIONAL_STUDENT_TEST_SCORES\")\n",
    "ibm_db.fetch_both(stmt)"
   ]
  },
  {
   "cell_type": "code",
   "execution_count": null,
   "id": "1c34858b-4ec6-4705-a748-110f393ff70f",
   "metadata": {
    "tags": []
   },
   "outputs": [],
   "source": [
    "import ibm_db_dbi\n",
    "pcon =  ibm_db_dbi.Connection(con)\n",
    "df = pd.read_sql(\"SELECT * FROM INTERNATIONAL_STUDENT_TEST_SCORES\",pcon)\n",
    "df"
   ]
  },
  {
   "cell_type": "code",
   "execution_count": null,
   "id": "293eee28-4d79-4e03-90aa-6defaf4757e4",
   "metadata": {},
   "outputs": [],
   "source": [
    "import matplotlib.pyplot as plt\n",
    "import seaborn as sns\n",
    "plot = sns.barplot(x='COUNTRY',y='TEST_SCORE',data=df.iloc[1:20,])\n",
    "plt.setp(plot.get_xticklabels(),rotation=70)\n",
    "plt.show()"
   ]
  },
  {
   "cell_type": "code",
   "execution_count": null,
   "id": "76c8c905-e304-458b-9d66-bcf55280e6b0",
   "metadata": {
    "tags": []
   },
   "outputs": [],
   "source": [
    "df['TEST_SCORE'].describe()"
   ]
  },
  {
   "cell_type": "code",
   "execution_count": null,
   "id": "28acb72a-7b7c-4b86-93bb-db6731b39ca3",
   "metadata": {
    "tags": []
   },
   "outputs": [],
   "source": [
    "df['TEST_SCORE'].idxmin()"
   ]
  },
  {
   "cell_type": "code",
   "execution_count": null,
   "id": "7dbcfe8a-c68c-4b1b-93d4-82728920c3a2",
   "metadata": {
    "tags": []
   },
   "outputs": [],
   "source": [
    "# df.iloc[94,0]\n",
    "df.at[25,'COUNTRY']"
   ]
  },
  {
   "cell_type": "code",
   "execution_count": null,
   "id": "4da9d388-296f-41a0-85a1-372aba63f3a2",
   "metadata": {
    "tags": []
   },
   "outputs": [],
   "source": [
    "plot = sns.set_style(\"whitegrid\")\n",
    "ax = sns.boxplot(x=df['TEST_SCORE'])"
   ]
  },
  {
   "cell_type": "markdown",
   "id": "78cc3a45-9feb-4060-a48e-6ca184697fa7",
   "metadata": {},
   "source": [
    "---\n",
    "---"
   ]
  },
  {
   "cell_type": "code",
   "execution_count": null,
   "id": "f6a931aa-57ea-485e-a411-ada50c6db439",
   "metadata": {
    "tags": []
   },
   "outputs": [],
   "source": [
    "%load_ext sql"
   ]
  },
  {
   "cell_type": "code",
   "execution_count": null,
   "id": "4c493588-daae-4c51-b55b-bc599d5c5c1d",
   "metadata": {
    "tags": []
   },
   "outputs": [],
   "source": [
    "import sqlite3\n",
    "con = sqlite3.connect('socioeconomic.db')\n",
    "cur_obj = con.cursor()"
   ]
  },
  {
   "cell_type": "code",
   "execution_count": null,
   "id": "f7d468dc-f8b2-40b1-b2b3-926e85c1ba84",
   "metadata": {
    "tags": []
   },
   "outputs": [],
   "source": [
    "import pandas as pd\n",
    "df = pd.read_csv(\"ChicagoCensusData.csv\")\n",
    "df.to_sql('socioeconomic.db',con,index=False,method='multi',if_exists='replace')"
   ]
  },
  {
   "cell_type": "code",
   "execution_count": null,
   "id": "c647057f-1e16-4425-a8ee-9a7b56b54e9b",
   "metadata": {
    "tags": []
   },
   "outputs": [],
   "source": [
    "df.head()"
   ]
  },
  {
   "cell_type": "code",
   "execution_count": null,
   "id": "0d58e8da-b69a-42e9-8b91-6562e5fb3c60",
   "metadata": {
    "tags": []
   },
   "outputs": [],
   "source": [
    "%sql sqlite:///socioeconomic.db"
   ]
  },
  {
   "cell_type": "code",
   "execution_count": null,
   "id": "96952ebd-9eb1-41b3-9899-2e6f7ca13f06",
   "metadata": {
    "tags": []
   },
   "outputs": [],
   "source": [
    "%sql SELECT * FROM PRAGMA_TABLE_INFO('socioeconomic.db')"
   ]
  },
  {
   "cell_type": "code",
   "execution_count": null,
   "id": "551ecbbe-e396-4595-a6f7-b6d7d5024f7b",
   "metadata": {
    "tags": []
   },
   "outputs": [],
   "source": [
    "import matplotlib.pyplot as plt\n",
    "import seaborn as sns\n",
    "plot = sns.jointplot(x='PER_CAPITA_INCOME',y='HARDSHIP_INDEX',data=df,kind='reg')"
   ]
  },
  {
   "cell_type": "code",
   "execution_count": null,
   "id": "4b0a87f2-e8b0-4bdd-8f7d-3e1a147b671b",
   "metadata": {},
   "outputs": [],
   "source": []
  }
 ],
 "metadata": {
  "kernelspec": {
   "display_name": "Python 3 (ipykernel)",
   "language": "python",
   "name": "python3"
  },
  "language_info": {
   "codemirror_mode": {
    "name": "ipython",
    "version": 3
   },
   "file_extension": ".py",
   "mimetype": "text/x-python",
   "name": "python",
   "nbconvert_exporter": "python",
   "pygments_lexer": "ipython3",
   "version": "3.10.10"
  }
 },
 "nbformat": 4,
 "nbformat_minor": 5
}
